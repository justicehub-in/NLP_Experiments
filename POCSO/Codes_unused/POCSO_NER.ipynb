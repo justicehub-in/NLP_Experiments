{
 "cells": [
  {
   "cell_type": "code",
   "execution_count": 1,
   "id": "44e20854",
   "metadata": {},
   "outputs": [],
   "source": [
    "import glob\n",
    "\n",
    "from opennyai import Pipeline\n",
    "from opennyai.utils import Data\n",
    "from opennyai.ner import get_unique_provision_count\n",
    "\n",
    "import pandas as pd\n",
    "from tqdm import tqdm\n",
    "import json\n",
    "\n",
    "\n",
    "import shutil\n",
    "import os\n",
    "os.environ[\"TOKENIZERS_PARALLELISM\"] = \"false\""
   ]
  },
  {
   "cell_type": "markdown",
   "id": "e293bfb6",
   "metadata": {},
   "source": [
    "# Sample POCSO Judgement"
   ]
  },
  {
   "cell_type": "code",
   "execution_count": null,
   "id": "b7f71cd6",
   "metadata": {},
   "outputs": [],
   "source": [
    "pdf = \"sample.pdf\"\n",
    "pages = convert_from_path(pdf, 350)\n",
    "\n",
    "i = 1\n",
    "for page in pages:\n",
    "    image_name = \"Page_\" + str(i) + \".jpg\"  \n",
    "    page.save(image_name, \"JPEG\")\n",
    "    i = i+1   "
   ]
  },
  {
   "cell_type": "code",
   "execution_count": null,
   "id": "d02906d4",
   "metadata": {},
   "outputs": [],
   "source": [
    "pics = glob.glob(\"*.jpg\")\n",
    "pics = natsorted(pics)"
   ]
  },
  {
   "cell_type": "code",
   "execution_count": null,
   "id": "b9b94fca",
   "metadata": {},
   "outputs": [],
   "source": [
    "judgement_text = ''\n",
    "for pic in pics:\n",
    "    text = pytesseract.image_to_string(Image.open(pic))\n",
    "    #os.remove(pic)\n",
    "    judgement_text = judgement_text + text"
   ]
  },
  {
   "cell_type": "code",
   "execution_count": null,
   "id": "aef20b2b",
   "metadata": {},
   "outputs": [],
   "source": [
    "#print(judgement_text)"
   ]
  },
  {
   "cell_type": "code",
   "execution_count": 10,
   "id": "df084300",
   "metadata": {},
   "outputs": [],
   "source": [
    "# you can also load your text files directly into this\n",
    "judgement_text = open('ASBR010003392018_Judgment_27-02-2019.txt').read()\n",
    "\n",
    "texts_to_process = [judgement_text]"
   ]
  },
  {
   "cell_type": "code",
   "execution_count": 11,
   "id": "070ae980",
   "metadata": {},
   "outputs": [
    {
     "name": "stdout",
     "output_type": "stream",
     "text": [
      "\u001b[38;5;4mℹ Pre-processing will happen on CPU!\u001b[0m\n"
     ]
    }
   ],
   "source": [
    "# create Data object for data  preprocessing before running ML models\n",
    "data = Data(texts_to_process, preprocessing_nlp_model='en_core_web_trf')"
   ]
  },
  {
   "cell_type": "code",
   "execution_count": 12,
   "id": "74cd06c7",
   "metadata": {},
   "outputs": [],
   "source": [
    "# If you have access to GPU then set this to True else False\n",
    "use_gpu = False"
   ]
  },
  {
   "cell_type": "code",
   "execution_count": 13,
   "id": "34b109c7",
   "metadata": {},
   "outputs": [
    {
     "name": "stdout",
     "output_type": "stream",
     "text": [
      "\u001b[38;5;4mℹ Loading NER...\u001b[0m\n",
      "\u001b[38;5;4mℹ NER will run on CPU!\u001b[0m\n"
     ]
    }
   ],
   "source": [
    "# Load NER model\n",
    "pipeline = Pipeline(components=['NER'], use_gpu=use_gpu, verbose=True,\n",
    "                   ner_model_name='en_legal_ner_trf',\n",
    "                   ner_mini_batch_size=40000,\n",
    "                   ner_do_sentence_level=True,\n",
    "                   ner_do_postprocess=True,\n",
    "                   ner_statute_shortforms_path='')"
   ]
  },
  {
   "cell_type": "code",
   "execution_count": 14,
   "id": "a68fee4a",
   "metadata": {},
   "outputs": [
    {
     "name": "stdout",
     "output_type": "stream",
     "text": [
      "\u001b[38;5;4mℹ Processing documents with Legal NER!!!\u001b[0m\n"
     ]
    },
    {
     "name": "stderr",
     "output_type": "stream",
     "text": [
      "100%|█████████████████████████████████████████████| 1/1 [00:05<00:00,  5.96s/it]\n"
     ]
    }
   ],
   "source": [
    "#Apply NER pipeline over the data\n",
    "results = pipeline(data)"
   ]
  },
  {
   "cell_type": "code",
   "execution_count": 15,
   "id": "3e218235",
   "metadata": {},
   "outputs": [],
   "source": [
    "ner_doc_1 = pipeline._ner_model_output[0]"
   ]
  },
  {
   "cell_type": "code",
   "execution_count": 17,
   "id": "3bb0f201",
   "metadata": {
    "scrolled": false
   },
   "outputs": [
    {
     "data": {
      "text/html": [
       "<span class=\"tex2jax_ignore\"><div class=\"entities\" style=\"line-height: 2.5; direction: ltr\">In The \n",
       "<mark class=\"entity\" style=\"background: #bbabf2; padding: 0.45em 0.6em; margin: 0 0.25em; line-height: 1; border-radius: 0.35em;\">\n",
       "    Court Of The Special Judge, Barpeta\n",
       "    <span style=\"font-size: 0.8em; font-weight: bold; line-height: 1; border-radius: 0.35em; vertical-align: middle; margin-left: 0.5rem\">COURT</span>\n",
       "</mark>\n",
       "</br>Special Pocso Case No. 06/2018 (Arising out of G.R. Case No. 2523/2016) U/S 4 of Pocso Act</br>Present : Sri \n",
       "<mark class=\"entity\" style=\"background: #fdd8a5; padding: 0.45em 0.6em; margin: 0 0.25em; line-height: 1; border-radius: 0.35em;\">\n",
       "    Chatra Bhukhan Gogoi\n",
       "    <span style=\"font-size: 0.8em; font-weight: bold; line-height: 1; border-radius: 0.35em; vertical-align: middle; margin-left: 0.5rem\">JUDGE</span>\n",
       "</mark>\n",
       ", Ajs, Special Judge, Barpeta.</br>Charge framed on:- 10.05.2018</br>\n",
       "<mark class=\"entity\" style=\"background: #f570ea; padding: 0.45em 0.6em; margin: 0 0.25em; line-height: 1; border-radius: 0.35em;\">\n",
       "    State of Assam\n",
       "    <span style=\"font-size: 0.8em; font-weight: bold; line-height: 1; border-radius: 0.35em; vertical-align: middle; margin-left: 0.5rem\">PETITIONER</span>\n",
       "</mark>\n",
       "</br>- Vs -</br>\n",
       "<mark class=\"entity\" style=\"background: #cdee81; padding: 0.45em 0.6em; margin: 0 0.25em; line-height: 1; border-radius: 0.35em;\">\n",
       "    Mofizur Rahman\n",
       "    <span style=\"font-size: 0.8em; font-weight: bold; line-height: 1; border-radius: 0.35em; vertical-align: middle; margin-left: 0.5rem\">RESPONDENT</span>\n",
       "</mark>\n",
       "</br>Date of Recording Evidence on  14.06.2018, 08.11.2018, 22.01.2019 &amp; 27.02.2019</br>Date of Hearing Argument on 27.02.2019. </br>Date of Delivering the Judgment on 27.02.2019. </br>Appearance :</br>Advocate for the State------------------ Mrs. \n",
       "<mark class=\"entity\" style=\"background: #f9d380; padding: 0.45em 0.6em; margin: 0 0.25em; line-height: 1; border-radius: 0.35em;\">\n",
       "    P. Das\n",
       "    <span style=\"font-size: 0.8em; font-weight: bold; line-height: 1; border-radius: 0.35em; vertical-align: middle; margin-left: 0.5rem\">LAWYER</span>\n",
       "</mark>\n",
       ", Learned Addl. P.P.</br>Advocate for the Accused-------------- Mr. \n",
       "<mark class=\"entity\" style=\"background: #f9d380; padding: 0.45em 0.6em; margin: 0 0.25em; line-height: 1; border-radius: 0.35em;\">\n",
       "    Faijur Rahman\n",
       "    <span style=\"font-size: 0.8em; font-weight: bold; line-height: 1; border-radius: 0.35em; vertical-align: middle; margin-left: 0.5rem\">LAWYER</span>\n",
       "</mark>\n",
       ", Learned Advocate.</br>Judgment</br>1. The prosecution case, in brief, is that, on \n",
       "<mark class=\"entity\" style=\"background: #b1ecf7; padding: 0.45em 0.6em; margin: 0 0.25em; line-height: 1; border-radius: 0.35em;\">\n",
       "    12.05.2016\n",
       "    <span style=\"font-size: 0.8em; font-weight: bold; line-height: 1; border-radius: 0.35em; vertical-align: middle; margin-left: 0.5rem\">DATE</span>\n",
       "</mark>\n",
       " one \n",
       "<mark class=\"entity\" style=\"background: #b0f6a2; padding: 0.45em 0.6em; margin: 0 0.25em; line-height: 1; border-radius: 0.35em;\">\n",
       "    Haidar Ali\n",
       "    <span style=\"font-size: 0.8em; font-weight: bold; line-height: 1; border-radius: 0.35em; vertical-align: middle; margin-left: 0.5rem\">OTHER_PERSON</span>\n",
       "</mark>\n",
       " lodged an FIR in \n",
       "<mark class=\"entity\" style=\"background: #a57db5; padding: 0.45em 0.6em; margin: 0 0.25em; line-height: 1; border-radius: 0.35em;\">\n",
       "    Kalgachia P.S.\n",
       "    <span style=\"font-size: 0.8em; font-weight: bold; line-height: 1; border-radius: 0.35em; vertical-align: middle; margin-left: 0.5rem\">ORG</span>\n",
       "</mark>\n",
       " alleging inter alia that on \n",
       "<mark class=\"entity\" style=\"background: #b1ecf7; padding: 0.45em 0.6em; margin: 0 0.25em; line-height: 1; border-radius: 0.35em;\">\n",
       "    10.05.16\n",
       "    <span style=\"font-size: 0.8em; font-weight: bold; line-height: 1; border-radius: 0.35em; vertical-align: middle; margin-left: 0.5rem\">DATE</span>\n",
       "</mark>\n",
       " at about 11 am his 16 years old daughter disappeared from his residence, but after a discrete search one \n",
       "<mark class=\"entity\" style=\"background: #b0f6a2; padding: 0.45em 0.6em; margin: 0 0.25em; line-height: 1; border-radius: 0.35em;\">\n",
       "    Manowara Khatun\n",
       "    <span style=\"font-size: 0.8em; font-weight: bold; line-height: 1; border-radius: 0.35em; vertical-align: middle; margin-left: 0.5rem\">OTHER_PERSON</span>\n",
       "</mark>\n",
       " informed on \n",
       "<mark class=\"entity\" style=\"background: #b1ecf7; padding: 0.45em 0.6em; margin: 0 0.25em; line-height: 1; border-radius: 0.35em;\">\n",
       "    11-05-16\n",
       "    <span style=\"font-size: 0.8em; font-weight: bold; line-height: 1; border-radius: 0.35em; vertical-align: middle; margin-left: 0.5rem\">DATE</span>\n",
       "</mark>\n",
       " that her husband \n",
       "<mark class=\"entity\" style=\"background: #b0f6a2; padding: 0.45em 0.6em; margin: 0 0.25em; line-height: 1; border-radius: 0.35em;\">\n",
       "    Mojibar Rahman\n",
       "    <span style=\"font-size: 0.8em; font-weight: bold; line-height: 1; border-radius: 0.35em; vertical-align: middle; margin-left: 0.5rem\">OTHER_PERSON</span>\n",
       "</mark>\n",
       " kidnapped her. Hence the case. </br>2. Acting on the information police got a case registered being \n",
       "<mark class=\"entity\" style=\"background: #a57db5; padding: 0.45em 0.6em; margin: 0 0.25em; line-height: 1; border-radius: 0.35em;\">\n",
       "    Kalgachia P.S.\n",
       "    <span style=\"font-size: 0.8em; font-weight: bold; line-height: 1; border-radius: 0.35em; vertical-align: middle; margin-left: 0.5rem\">ORG</span>\n",
       "</mark>\n",
       " case No. 403/16 u/\n",
       "<mark class=\"entity\" style=\"background: yellow; padding: 0.45em 0.6em; margin: 0 0.25em; line-height: 1; border-radius: 0.35em;\">\n",
       "    s 366(A)\n",
       "    <span style=\"font-size: 0.8em; font-weight: bold; line-height: 1; border-radius: 0.35em; vertical-align: middle; margin-left: 0.5rem\">PROVISION</span>\n",
       "</mark>\n",
       " \n",
       "<mark class=\"entity\" style=\"background: #faea99; padding: 0.45em 0.6em; margin: 0 0.25em; line-height: 1; border-radius: 0.35em;\">\n",
       "    IPC\n",
       "    <span style=\"font-size: 0.8em; font-weight: bold; line-height: 1; border-radius: 0.35em; vertical-align: middle; margin-left: 0.5rem\">STATUTE</span>\n",
       "</mark>\n",
       " and investigated the case. </br>3. On completion of investigation, police finally laid the charge sheet against accused \n",
       "<mark class=\"entity\" style=\"background: #cdee81; padding: 0.45em 0.6em; margin: 0 0.25em; line-height: 1; border-radius: 0.35em;\">\n",
       "    Mofizur Rahman\n",
       "    <span style=\"font-size: 0.8em; font-weight: bold; line-height: 1; border-radius: 0.35em; vertical-align: middle; margin-left: 0.5rem\">RESPONDENT</span>\n",
       "</mark>\n",
       " u/\n",
       "<mark class=\"entity\" style=\"background: yellow; padding: 0.45em 0.6em; margin: 0 0.25em; line-height: 1; border-radius: 0.35em;\">\n",
       "    s 366(A)\n",
       "    <span style=\"font-size: 0.8em; font-weight: bold; line-height: 1; border-radius: 0.35em; vertical-align: middle; margin-left: 0.5rem\">PROVISION</span>\n",
       "</mark>\n",
       " \n",
       "<mark class=\"entity\" style=\"background: #faea99; padding: 0.45em 0.6em; margin: 0 0.25em; line-height: 1; border-radius: 0.35em;\">\n",
       "    IPC\n",
       "    <span style=\"font-size: 0.8em; font-weight: bold; line-height: 1; border-radius: 0.35em; vertical-align: middle; margin-left: 0.5rem\">STATUTE</span>\n",
       "</mark>\n",
       " and \n",
       "<mark class=\"entity\" style=\"background: yellow; padding: 0.45em 0.6em; margin: 0 0.25em; line-height: 1; border-radius: 0.35em;\">\n",
       "    section 4\n",
       "    <span style=\"font-size: 0.8em; font-weight: bold; line-height: 1; border-radius: 0.35em; vertical-align: middle; margin-left: 0.5rem\">PROVISION</span>\n",
       "</mark>\n",
       " of \n",
       "<mark class=\"entity\" style=\"background: #faea99; padding: 0.45em 0.6em; margin: 0 0.25em; line-height: 1; border-radius: 0.35em;\">\n",
       "    POCSO Act\n",
       "    <span style=\"font-size: 0.8em; font-weight: bold; line-height: 1; border-radius: 0.35em; vertical-align: middle; margin-left: 0.5rem\">STATUTE</span>\n",
       "</mark>\n",
       " with a view to stand trial. </br>4. In due course, when accused entered his appearance in court vide order dated \n",
       "<mark class=\"entity\" style=\"background: #b1ecf7; padding: 0.45em 0.6em; margin: 0 0.25em; line-height: 1; border-radius: 0.35em;\">\n",
       "    10-05-18\n",
       "    <span style=\"font-size: 0.8em; font-weight: bold; line-height: 1; border-radius: 0.35em; vertical-align: middle; margin-left: 0.5rem\">DATE</span>\n",
       "</mark>\n",
       " all the particulars relating to the case were furnished with accused. Thereafter, having heard the learned counsel and on perusal of the record having found a prima facie case charge u/\n",
       "<mark class=\"entity\" style=\"background: yellow; padding: 0.45em 0.6em; margin: 0 0.25em; line-height: 1; border-radius: 0.35em;\">\n",
       "    s 4\n",
       "    <span style=\"font-size: 0.8em; font-weight: bold; line-height: 1; border-radius: 0.35em; vertical-align: middle; margin-left: 0.5rem\">PROVISION</span>\n",
       "</mark>\n",
       " of \n",
       "<mark class=\"entity\" style=\"background: #faea99; padding: 0.45em 0.6em; margin: 0 0.25em; line-height: 1; border-radius: 0.35em;\">\n",
       "    POCSO Act2\n",
       "    <span style=\"font-size: 0.8em; font-weight: bold; line-height: 1; border-radius: 0.35em; vertical-align: middle; margin-left: 0.5rem\">STATUTE</span>\n",
       "</mark>\n",
       " was framed. The substance of the offence on being read over and explained accused pleaded not guilty and claim trial. </br>5. </br>During the course of trial, the prosecution examined 6 witnesses namely Dr. \n",
       "<mark class=\"entity\" style=\"background: violet; padding: 0.45em 0.6em; margin: 0 0.25em; line-height: 1; border-radius: 0.35em;\">\n",
       "    Anima Boro\n",
       "    <span style=\"font-size: 0.8em; font-weight: bold; line-height: 1; border-radius: 0.35em; vertical-align: middle; margin-left: 0.5rem\">WITNESS</span>\n",
       "</mark>\n",
       " as PW-1, \n",
       "<mark class=\"entity\" style=\"background: violet; padding: 0.45em 0.6em; margin: 0 0.25em; line-height: 1; border-radius: 0.35em;\">\n",
       "    Sahidul Islam\n",
       "    <span style=\"font-size: 0.8em; font-weight: bold; line-height: 1; border-radius: 0.35em; vertical-align: middle; margin-left: 0.5rem\">WITNESS</span>\n",
       "</mark>\n",
       " as PW-2, \n",
       "<mark class=\"entity\" style=\"background: violet; padding: 0.45em 0.6em; margin: 0 0.25em; line-height: 1; border-radius: 0.35em;\">\n",
       "    Afjal Hussain Choudhury\n",
       "    <span style=\"font-size: 0.8em; font-weight: bold; line-height: 1; border-radius: 0.35em; vertical-align: middle; margin-left: 0.5rem\">WITNESS</span>\n",
       "</mark>\n",
       " as PW-3, \n",
       "<mark class=\"entity\" style=\"background: violet; padding: 0.45em 0.6em; margin: 0 0.25em; line-height: 1; border-radius: 0.35em;\">\n",
       "    Guljar Choudhury\n",
       "    <span style=\"font-size: 0.8em; font-weight: bold; line-height: 1; border-radius: 0.35em; vertical-align: middle; margin-left: 0.5rem\">WITNESS</span>\n",
       "</mark>\n",
       " as PW-4, \n",
       "<mark class=\"entity\" style=\"background: violet; padding: 0.45em 0.6em; margin: 0 0.25em; line-height: 1; border-radius: 0.35em;\">\n",
       "    Makmida Khatun\n",
       "    <span style=\"font-size: 0.8em; font-weight: bold; line-height: 1; border-radius: 0.35em; vertical-align: middle; margin-left: 0.5rem\">WITNESS</span>\n",
       "</mark>\n",
       " as PW-5 and \n",
       "<mark class=\"entity\" style=\"background: violet; padding: 0.45em 0.6em; margin: 0 0.25em; line-height: 1; border-radius: 0.35em;\">\n",
       "    Tarun Chandra Boro\n",
       "    <span style=\"font-size: 0.8em; font-weight: bold; line-height: 1; border-radius: 0.35em; vertical-align: middle; margin-left: 0.5rem\">WITNESS</span>\n",
       "</mark>\n",
       " as PW-6.</br>6.</br>Hearing to the learned Addl. P.P. further prosecution evidence stands closed. </br>7.</br>Examination of accused u/\n",
       "<mark class=\"entity\" style=\"background: yellow; padding: 0.45em 0.6em; margin: 0 0.25em; line-height: 1; border-radius: 0.35em;\">\n",
       "    s 313\n",
       "    <span style=\"font-size: 0.8em; font-weight: bold; line-height: 1; border-radius: 0.35em; vertical-align: middle; margin-left: 0.5rem\">PROVISION</span>\n",
       "</mark>\n",
       " \n",
       "<mark class=\"entity\" style=\"background: #faea99; padding: 0.45em 0.6em; margin: 0 0.25em; line-height: 1; border-radius: 0.35em;\">\n",
       "    Cr.P.C.\n",
       "    <span style=\"font-size: 0.8em; font-weight: bold; line-height: 1; border-radius: 0.35em; vertical-align: middle; margin-left: 0.5rem\">STATUTE</span>\n",
       "</mark>\n",
       " is also dispensed with in view of lack of implicating materials. The plea of the accused is total denial of the prosecution case. As such, on being asked accused declined to adduce defence evidence. </br>8.</br>Now point for determination ;-</br>.1. Whether on \n",
       "<mark class=\"entity\" style=\"background: #b1ecf7; padding: 0.45em 0.6em; margin: 0 0.25em; line-height: 1; border-radius: 0.35em;\">\n",
       "    10.05.2016\n",
       "    <span style=\"font-size: 0.8em; font-weight: bold; line-height: 1; border-radius: 0.35em; vertical-align: middle; margin-left: 0.5rem\">DATE</span>\n",
       "</mark>\n",
       " at about 11 pm accused committed penetrative sexual assault on the victim girl as alleged ? </br>9.</br>Discussion, Decision and reasons for such decision :-</br>I have heard the learned lawyers appearing for both sides and also carefully scanned the prosecution evidence available on record.</br>10.</br>The learned counsel appearing for the State Smti. \n",
       "<mark class=\"entity\" style=\"background: #f9d380; padding: 0.45em 0.6em; margin: 0 0.25em; line-height: 1; border-radius: 0.35em;\">\n",
       "    P. Das\n",
       "    <span style=\"font-size: 0.8em; font-weight: bold; line-height: 1; border-radius: 0.35em; vertical-align: middle; margin-left: 0.5rem\">LAWYER</span>\n",
       "</mark>\n",
       " submitted that though the prosecution examined 6 witnesses but the court may pass judgment after assessment of evidence.</br>11. </br>On the other hand, the learned counsel appearing for the accused person vehemently contended that there is absolutely nothing in the evidence of the prosecution witnesses which constitute the ingredients of the offences u/\n",
       "<mark class=\"entity\" style=\"background: yellow; padding: 0.45em 0.6em; margin: 0 0.25em; line-height: 1; border-radius: 0.35em;\">\n",
       "    s 4\n",
       "    <span style=\"font-size: 0.8em; font-weight: bold; line-height: 1; border-radius: 0.35em; vertical-align: middle; margin-left: 0.5rem\">PROVISION</span>\n",
       "</mark>\n",
       " of \n",
       "<mark class=\"entity\" style=\"background: #faea99; padding: 0.45em 0.6em; margin: 0 0.25em; line-height: 1; border-radius: 0.35em;\">\n",
       "    POCSO Act\n",
       "    <span style=\"font-size: 0.8em; font-weight: bold; line-height: 1; border-radius: 0.35em; vertical-align: middle; margin-left: 0.5rem\">STATUTE</span>\n",
       "</mark>\n",
       ". According to the learned defence counsel,</br>the prosecution has failed to bring home the guilt of accused for sustaining conviction for the offence u/\n",
       "<mark class=\"entity\" style=\"background: yellow; padding: 0.45em 0.6em; margin: 0 0.25em; line-height: 1; border-radius: 0.35em;\">\n",
       "    s 4\n",
       "    <span style=\"font-size: 0.8em; font-weight: bold; line-height: 1; border-radius: 0.35em; vertical-align: middle; margin-left: 0.5rem\">PROVISION</span>\n",
       "</mark>\n",
       " of \n",
       "<mark class=\"entity\" style=\"background: #faea99; padding: 0.45em 0.6em; margin: 0 0.25em; line-height: 1; border-radius: 0.35em;\">\n",
       "    POCSO Act\n",
       "    <span style=\"font-size: 0.8em; font-weight: bold; line-height: 1; border-radius: 0.35em; vertical-align: middle; margin-left: 0.5rem\">STATUTE</span>\n",
       "</mark>\n",
       ". As such, the learned counsel prays to acquit the accused person. </br>12. </br>In the context of the submission of the learned counsel appearing for both sides it would be in the fitness of things to refer to \n",
       "<mark class=\"entity\" style=\"background: yellow; padding: 0.45em 0.6em; margin: 0 0.25em; line-height: 1; border-radius: 0.35em;\">\n",
       "    section 4\n",
       "    <span style=\"font-size: 0.8em; font-weight: bold; line-height: 1; border-radius: 0.35em; vertical-align: middle; margin-left: 0.5rem\">PROVISION</span>\n",
       "</mark>\n",
       " as defined in the \n",
       "<mark class=\"entity\" style=\"background: #faea99; padding: 0.45em 0.6em; margin: 0 0.25em; line-height: 1; border-radius: 0.35em;\">\n",
       "    POCSO Act 2012\n",
       "    <span style=\"font-size: 0.8em; font-weight: bold; line-height: 1; border-radius: 0.35em; vertical-align: middle; margin-left: 0.5rem\">STATUTE</span>\n",
       "</mark>\n",
       ".</br>4. Punishment for penetrative sexual assault. - Whoever commits penetrative sexual assault shall be punished with imprisonment of either description for a term which shall not be less then 7 years but which may extend to imprisonment for life, and shall also be liable to fine.3 13. </br>Now, on perusal of the offence u/\n",
       "<mark class=\"entity\" style=\"background: yellow; padding: 0.45em 0.6em; margin: 0 0.25em; line-height: 1; border-radius: 0.35em;\">\n",
       "    s 4\n",
       "    <span style=\"font-size: 0.8em; font-weight: bold; line-height: 1; border-radius: 0.35em; vertical-align: middle; margin-left: 0.5rem\">PROVISION</span>\n",
       "</mark>\n",
       " of \n",
       "<mark class=\"entity\" style=\"background: #faea99; padding: 0.45em 0.6em; margin: 0 0.25em; line-height: 1; border-radius: 0.35em;\">\n",
       "    POCSO Act\n",
       "    <span style=\"font-size: 0.8em; font-weight: bold; line-height: 1; border-radius: 0.35em; vertical-align: middle; margin-left: 0.5rem\">STATUTE</span>\n",
       "</mark>\n",
       " and having heard the learned counsels appearing for both sides and on careful perusal of the evidence available on record particularly the evidence of the alleged victim it transpires that she is unable to speak anything about the incident not to speak of commission of the penetrative sexual assault against her. From her evidence nothing can even be inferred even remotely that it was the accused who committed the offence u/\n",
       "<mark class=\"entity\" style=\"background: yellow; padding: 0.45em 0.6em; margin: 0 0.25em; line-height: 1; border-radius: 0.35em;\">\n",
       "    s 4\n",
       "    <span style=\"font-size: 0.8em; font-weight: bold; line-height: 1; border-radius: 0.35em; vertical-align: middle; margin-left: 0.5rem\">PROVISION</span>\n",
       "</mark>\n",
       " of \n",
       "<mark class=\"entity\" style=\"background: #faea99; padding: 0.45em 0.6em; margin: 0 0.25em; line-height: 1; border-radius: 0.35em;\">\n",
       "    POCSO Act\n",
       "    <span style=\"font-size: 0.8em; font-weight: bold; line-height: 1; border-radius: 0.35em; vertical-align: middle; margin-left: 0.5rem\">STATUTE</span>\n",
       "</mark>\n",
       ".</br>14. </br>In her statement u/\n",
       "<mark class=\"entity\" style=\"background: yellow; padding: 0.45em 0.6em; margin: 0 0.25em; line-height: 1; border-radius: 0.35em;\">\n",
       "    s 164\n",
       "    <span style=\"font-size: 0.8em; font-weight: bold; line-height: 1; border-radius: 0.35em; vertical-align: middle; margin-left: 0.5rem\">PROVISION</span>\n",
       "</mark>\n",
       " \n",
       "<mark class=\"entity\" style=\"background: #faea99; padding: 0.45em 0.6em; margin: 0 0.25em; line-height: 1; border-radius: 0.35em;\">\n",
       "    Cr.P.C.\n",
       "    <span style=\"font-size: 0.8em; font-weight: bold; line-height: 1; border-radius: 0.35em; vertical-align: middle; margin-left: 0.5rem\">STATUTE</span>\n",
       "</mark>\n",
       " also (Exhibit 2) she has not stated anything regarding any sexual assault on her by accused person. The medical officer PW-1 on examination of the victim also found no evidence of any penetrative sexual assault on the victim. The evidence of PW-2, PW-3 &amp;</br>PW-4 also not supporting the prosecution case in any manner. The evidence of alleged victim also does not inspire any confidence in the mind of the court regarding commission of the alleged offence by accused person. Form the evidence on record it transpires that the prosecution fail to establish the age of the alleged victim girl also by way of proving her date of birth or by way of any other credible manner. In the absence of any such documentary proof no inference can be drawn that the girl was minor at the relevant time. There is absolutely no evidence on behalf of the prosecution to show that any offence u/\n",
       "<mark class=\"entity\" style=\"background: yellow; padding: 0.45em 0.6em; margin: 0 0.25em; line-height: 1; border-radius: 0.35em;\">\n",
       "    s 4\n",
       "    <span style=\"font-size: 0.8em; font-weight: bold; line-height: 1; border-radius: 0.35em; vertical-align: middle; margin-left: 0.5rem\">PROVISION</span>\n",
       "</mark>\n",
       " of \n",
       "<mark class=\"entity\" style=\"background: #faea99; padding: 0.45em 0.6em; margin: 0 0.25em; line-height: 1; border-radius: 0.35em;\">\n",
       "    POCSO Act\n",
       "    <span style=\"font-size: 0.8em; font-weight: bold; line-height: 1; border-radius: 0.35em; vertical-align: middle; margin-left: 0.5rem\">STATUTE</span>\n",
       "</mark>\n",
       " has been committed by accused. In fact, no ingredients of \n",
       "<mark class=\"entity\" style=\"background: yellow; padding: 0.45em 0.6em; margin: 0 0.25em; line-height: 1; border-radius: 0.35em;\">\n",
       "    section 4\n",
       "    <span style=\"font-size: 0.8em; font-weight: bold; line-height: 1; border-radius: 0.35em; vertical-align: middle; margin-left: 0.5rem\">PROVISION</span>\n",
       "</mark>\n",
       " of \n",
       "<mark class=\"entity\" style=\"background: #faea99; padding: 0.45em 0.6em; margin: 0 0.25em; line-height: 1; border-radius: 0.35em;\">\n",
       "    POCSO Act\n",
       "    <span style=\"font-size: 0.8em; font-weight: bold; line-height: 1; border-radius: 0.35em; vertical-align: middle; margin-left: 0.5rem\">STATUTE</span>\n",
       "</mark>\n",
       " have been found established. </br>15. </br>In the result, this court has no option but to acquit the accused \n",
       "<mark class=\"entity\" style=\"background: #cdee81; padding: 0.45em 0.6em; margin: 0 0.25em; line-height: 1; border-radius: 0.35em;\">\n",
       "    Mofizur Rahman\n",
       "    <span style=\"font-size: 0.8em; font-weight: bold; line-height: 1; border-radius: 0.35em; vertical-align: middle; margin-left: 0.5rem\">RESPONDENT</span>\n",
       "</mark>\n",
       " from the charges u/\n",
       "<mark class=\"entity\" style=\"background: yellow; padding: 0.45em 0.6em; margin: 0 0.25em; line-height: 1; border-radius: 0.35em;\">\n",
       "    s 4\n",
       "    <span style=\"font-size: 0.8em; font-weight: bold; line-height: 1; border-radius: 0.35em; vertical-align: middle; margin-left: 0.5rem\">PROVISION</span>\n",
       "</mark>\n",
       " of \n",
       "<mark class=\"entity\" style=\"background: #faea99; padding: 0.45em 0.6em; margin: 0 0.25em; line-height: 1; border-radius: 0.35em;\">\n",
       "    POCSO Act\n",
       "    <span style=\"font-size: 0.8em; font-weight: bold; line-height: 1; border-radius: 0.35em; vertical-align: middle; margin-left: 0.5rem\">STATUTE</span>\n",
       "</mark>\n",
       " on the ground of benefit of doubt and set him at liberty forthwith. </br>16. </br>The terms of bail bond of accused is extended for a period of 6 (six)</br>months from to-day as provided U/\n",
       "<mark class=\"entity\" style=\"background: yellow; padding: 0.45em 0.6em; margin: 0 0.25em; line-height: 1; border-radius: 0.35em;\">\n",
       "    S 437(A)\n",
       "    <span style=\"font-size: 0.8em; font-weight: bold; line-height: 1; border-radius: 0.35em; vertical-align: middle; margin-left: 0.5rem\">PROVISION</span>\n",
       "</mark>\n",
       " of \n",
       "<mark class=\"entity\" style=\"background: #faea99; padding: 0.45em 0.6em; margin: 0 0.25em; line-height: 1; border-radius: 0.35em;\">\n",
       "    Cr.P.C.\n",
       "    <span style=\"font-size: 0.8em; font-weight: bold; line-height: 1; border-radius: 0.35em; vertical-align: middle; margin-left: 0.5rem\">STATUTE</span>\n",
       "</mark>\n",
       "</br>17. </br>Let a copy of the judgment be forwarded to the learned \n",
       "<mark class=\"entity\" style=\"background: #bbabf2; padding: 0.45em 0.6em; margin: 0 0.25em; line-height: 1; border-radius: 0.35em;\">\n",
       "    District Magistrate, Barpeta\n",
       "    <span style=\"font-size: 0.8em; font-weight: bold; line-height: 1; border-radius: 0.35em; vertical-align: middle; margin-left: 0.5rem\">COURT</span>\n",
       "</mark>\n",
       " as provided in \n",
       "<mark class=\"entity\" style=\"background: yellow; padding: 0.45em 0.6em; margin: 0 0.25em; line-height: 1; border-radius: 0.35em;\">\n",
       "    section 365\n",
       "    <span style=\"font-size: 0.8em; font-weight: bold; line-height: 1; border-radius: 0.35em; vertical-align: middle; margin-left: 0.5rem\">PROVISION</span>\n",
       "</mark>\n",
       " \n",
       "<mark class=\"entity\" style=\"background: #faea99; padding: 0.45em 0.6em; margin: 0 0.25em; line-height: 1; border-radius: 0.35em;\">\n",
       "    Cr.P.C.\n",
       "    <span style=\"font-size: 0.8em; font-weight: bold; line-height: 1; border-radius: 0.35em; vertical-align: middle; margin-left: 0.5rem\">STATUTE</span>\n",
       "</mark>\n",
       "</br>18.Let case record be consigned to record room as per procedure. </br>19.Given under my hand and seal of this Court on \n",
       "<mark class=\"entity\" style=\"background: #b1ecf7; padding: 0.45em 0.6em; margin: 0 0.25em; line-height: 1; border-radius: 0.35em;\">\n",
       "    27th day of February,\n",
       "\n",
       "    <span style=\"font-size: 0.8em; font-weight: bold; line-height: 1; border-radius: 0.35em; vertical-align: middle; margin-left: 0.5rem\">DATE</span>\n",
       "</mark>\n",
       "2019, at \n",
       "<mark class=\"entity\" style=\"background: #7fdbd4; padding: 0.45em 0.6em; margin: 0 0.25em; line-height: 1; border-radius: 0.35em;\">\n",
       "    Barpeta\n",
       "    <span style=\"font-size: 0.8em; font-weight: bold; line-height: 1; border-radius: 0.35em; vertical-align: middle; margin-left: 0.5rem\">GPE</span>\n",
       "</mark>\n",
       ". </br>Dictated &amp; Corrected my me Sd/-</br>(Sri \n",
       "<mark class=\"entity\" style=\"background: #fdd8a5; padding: 0.45em 0.6em; margin: 0 0.25em; line-height: 1; border-radius: 0.35em;\">\n",
       "    C.B. Gogoi\n",
       "    <span style=\"font-size: 0.8em; font-weight: bold; line-height: 1; border-radius: 0.35em; vertical-align: middle; margin-left: 0.5rem\">JUDGE</span>\n",
       "</mark>\n",
       ")</br>Special Judge,</br>\n",
       "<mark class=\"entity\" style=\"background: #7fdbd4; padding: 0.45em 0.6em; margin: 0 0.25em; line-height: 1; border-radius: 0.35em;\">\n",
       "    Barpeta\n",
       "    <span style=\"font-size: 0.8em; font-weight: bold; line-height: 1; border-radius: 0.35em; vertical-align: middle; margin-left: 0.5rem\">GPE</span>\n",
       "</mark>\n",
       ". </br>Sd/-</br>(Sri \n",
       "<mark class=\"entity\" style=\"background: #fdd8a5; padding: 0.45em 0.6em; margin: 0 0.25em; line-height: 1; border-radius: 0.35em;\">\n",
       "    C.B. Gogoi\n",
       "    <span style=\"font-size: 0.8em; font-weight: bold; line-height: 1; border-radius: 0.35em; vertical-align: middle; margin-left: 0.5rem\">JUDGE</span>\n",
       "</mark>\n",
       ")</br>Special Judge,</br>Barpeta.</br></div></span>"
      ],
      "text/plain": [
       "<IPython.core.display.HTML object>"
      ]
     },
     "metadata": {},
     "output_type": "display_data"
    }
   ],
   "source": [
    "#Visualising NER\n",
    "from spacy import displacy\n",
    "from opennyai.ner.ner_utils import ner_displacy_option\n",
    "displacy.render(ner_doc_1, style='ent', options=ner_displacy_option)"
   ]
  },
  {
   "cell_type": "code",
   "execution_count": null,
   "id": "4de57801",
   "metadata": {
    "collapsed": true
   },
   "outputs": [],
   "source": [
    "# Export the results to a json file\n",
    "import json\n",
    "with open('output.json','w') as f:\n",
    "     json.dump(results,f,indent=4)"
   ]
  },
  {
   "cell_type": "code",
   "execution_count": null,
   "id": "bb4768d5",
   "metadata": {},
   "outputs": [],
   "source": [
    "ner_doc_1 = pipeline._ner_model_output[0]"
   ]
  },
  {
   "cell_type": "code",
   "execution_count": null,
   "id": "ff73372d",
   "metadata": {},
   "outputs": [],
   "source": [
    "# Frequency count of all provisions in a judgement\n",
    "provisions=get_unique_provision_count(ner_doc_1)\n",
    "provisions"
   ]
  },
  {
   "cell_type": "code",
   "execution_count": null,
   "id": "eb1e6f61",
   "metadata": {},
   "outputs": [],
   "source": [
    "# Frequency count of all statues in a judgement\n",
    "from opennyai.ner import get_unique_statute_count\n",
    "statutes=get_unique_statute_count(ner_doc_1)\n",
    "statutes"
   ]
  },
  {
   "cell_type": "code",
   "execution_count": null,
   "id": "5b490a23",
   "metadata": {},
   "outputs": [],
   "source": [
    "# Saving NER Results\n",
    "from opennyai.ner import get_csv\n",
    "get_csv(ner_doc_1,'sample_judgement1_NER.csv', save_path=r\"/home/krishna/NLP_Justice/POCSO/sample_judgement1_NER.csv\")"
   ]
  },
  {
   "cell_type": "code",
   "execution_count": null,
   "id": "ddda920f",
   "metadata": {},
   "outputs": [],
   "source": [
    "# Frequency count of all precendents in a judgement\n",
    "from opennyai.ner import get_unique_precedent_count\n",
    "import opennyai.ner as InLegalNER\n",
    "\n",
    "precedents=InLegalNER.get_unique_precedent_count(ner_doc_1)\n",
    "precedents"
   ]
  },
  {
   "cell_type": "code",
   "execution_count": null,
   "id": "d5984ec8",
   "metadata": {},
   "outputs": [],
   "source": [
    "ner_doc_1 = pipeline._ner_model_output[0]\n",
    "identified_entites = [(ent, ent.label_) for ent in ner_doc_1.ents]\n",
    "identified_entites"
   ]
  },
  {
   "cell_type": "code",
   "execution_count": null,
   "id": "77f7e8cb",
   "metadata": {},
   "outputs": [],
   "source": [
    "ner_doc_1.user_data['precedent_clusters']"
   ]
  },
  {
   "cell_type": "code",
   "execution_count": null,
   "id": "31beb6a5",
   "metadata": {},
   "outputs": [],
   "source": [
    "with open('sample.txt', 'w') as f:\n",
    "    f.write(judgement_text)"
   ]
  },
  {
   "cell_type": "markdown",
   "id": "04f0263a",
   "metadata": {},
   "source": [
    "# All judgements\n",
    "\n",
    "50 judgements were filtered on which NER has to be experimented."
   ]
  },
  {
   "cell_type": "code",
   "execution_count": 2,
   "id": "3e71fd4c",
   "metadata": {},
   "outputs": [],
   "source": [
    "filtered_cases_cino = pd.read_csv('POCSO_Filter2.csv')['cino'].to_list()"
   ]
  },
  {
   "cell_type": "code",
   "execution_count": 3,
   "id": "fd6b4806",
   "metadata": {},
   "outputs": [],
   "source": [
    "# List of all POCSO judgements in Assam\n",
    "judgement_paths_assam = []\n",
    "path =\"Assam\"\n",
    "for root, dirs, files in os.walk(path):\n",
    "    for file in files:\n",
    "        if(file.endswith(\".txt\")):\n",
    "            judgement_paths_assam.append(os.path.join(root,file))"
   ]
  },
  {
   "cell_type": "code",
   "execution_count": 4,
   "id": "5342ff45",
   "metadata": {},
   "outputs": [],
   "source": [
    "# List of 50 filtered POCSO judgements in Assam\n",
    "judgements_filtered = []\n",
    "for judgement in judgement_paths_assam:\n",
    "    #Get Case_ID \n",
    "    case_id = judgement.split(r'/')[-1].split('.txt')[0]\n",
    "    \n",
    "    if case_id in filtered_cases_cino:\n",
    "        judgements_filtered.append(judgement)"
   ]
  },
  {
   "cell_type": "code",
   "execution_count": 5,
   "id": "41a5d09b",
   "metadata": {},
   "outputs": [
    {
     "data": {
      "text/plain": [
       "51"
      ]
     },
     "execution_count": 5,
     "metadata": {},
     "output_type": "execute_result"
    }
   ],
   "source": [
    "len(judgements_filtered)"
   ]
  },
  {
   "cell_type": "code",
   "execution_count": 6,
   "id": "4aa715ad",
   "metadata": {},
   "outputs": [],
   "source": [
    "case_dfs = []\n",
    "case_dfs.append(pd.read_csv('POCSO_NER_Template.csv'))"
   ]
  },
  {
   "cell_type": "code",
   "execution_count": 35,
   "id": "7f7521d9",
   "metadata": {},
   "outputs": [
    {
     "name": "stderr",
     "output_type": "stream",
     "text": [
      "\r",
      "  0%|                                                    | 0/51 [00:00<?, ?it/s]"
     ]
    },
    {
     "name": "stdout",
     "output_type": "stream",
     "text": [
      "\u001b[38;5;4mℹ Pre-processing will happen on CPU!\u001b[0m\n",
      "\u001b[38;5;4mℹ Loading NER...\u001b[0m\n",
      "\u001b[38;5;4mℹ NER will run on CPU!\u001b[0m\n",
      "\u001b[38;5;4mℹ Processing documents with Legal NER!!!\u001b[0m\n"
     ]
    },
    {
     "name": "stderr",
     "output_type": "stream",
     "text": [
      "\n",
      "  0%|                                                     | 0/1 [00:00<?, ?it/s]\u001b[A\n",
      "100%|████████████████████████████████████████████| 1/1 [03:38<00:00, 218.77s/it]\u001b[A"
     ]
    },
    {
     "name": "stdout",
     "output_type": "stream",
     "text": [
      "\u001b[38;5;3m⚠ There was some issue while performing postprocessing for doc id\n",
      "722476655a55d67cb66f16df00680a78422403f85d3e4a2af0f4881f73503eb0.\n",
      "Some of postprocessing info may be absent because of this in doc.\u001b[0m\n"
     ]
    },
    {
     "name": "stderr",
     "output_type": "stream",
     "text": [
      "\n",
      "  2%|▊                                        | 1/51 [03:43<3:05:53, 223.08s/it]"
     ]
    },
    {
     "name": "stdout",
     "output_type": "stream",
     "text": [
      "\u001b[38;5;4mℹ Pre-processing will happen on CPU!\u001b[0m\n",
      "\u001b[38;5;4mℹ Loading NER...\u001b[0m\n",
      "\u001b[38;5;4mℹ NER will run on CPU!\u001b[0m\n",
      "\u001b[38;5;4mℹ Processing documents with Legal NER!!!\u001b[0m\n"
     ]
    },
    {
     "name": "stderr",
     "output_type": "stream",
     "text": [
      "\n",
      "  0%|                                                     | 0/1 [00:00<?, ?it/s]\u001b[A\n",
      "100%|█████████████████████████████████████████████| 1/1 [00:09<00:00,  9.86s/it]\u001b[A\n",
      "  4%|█▌                                       | 2/51 [03:57<1:21:52, 100.25s/it]"
     ]
    },
    {
     "name": "stdout",
     "output_type": "stream",
     "text": [
      "\u001b[38;5;4mℹ Pre-processing will happen on CPU!\u001b[0m\n",
      "\u001b[38;5;4mℹ Loading NER...\u001b[0m\n",
      "\u001b[38;5;4mℹ NER will run on CPU!\u001b[0m\n",
      "\u001b[38;5;4mℹ Processing documents with Legal NER!!!\u001b[0m\n"
     ]
    },
    {
     "name": "stderr",
     "output_type": "stream",
     "text": [
      "\n",
      "  0%|                                                     | 0/1 [00:00<?, ?it/s]\u001b[A\n",
      "100%|█████████████████████████████████████████████| 1/1 [00:10<00:00, 10.32s/it]\u001b[A\n",
      "  6%|██▌                                         | 3/51 [04:12<48:58, 61.22s/it]"
     ]
    },
    {
     "name": "stdout",
     "output_type": "stream",
     "text": [
      "\u001b[38;5;4mℹ Pre-processing will happen on CPU!\u001b[0m\n",
      "\u001b[38;5;4mℹ Loading NER...\u001b[0m\n",
      "\u001b[38;5;4mℹ NER will run on CPU!\u001b[0m\n",
      "\u001b[38;5;4mℹ Processing documents with Legal NER!!!\u001b[0m\n"
     ]
    },
    {
     "name": "stderr",
     "output_type": "stream",
     "text": [
      "\n",
      "  0%|                                                     | 0/1 [00:00<?, ?it/s]\u001b[A\n",
      "100%|█████████████████████████████████████████████| 1/1 [00:15<00:00, 15.74s/it]\u001b[A\n",
      "  8%|███▍                                        | 4/51 [04:32<35:17, 45.05s/it]"
     ]
    },
    {
     "name": "stdout",
     "output_type": "stream",
     "text": [
      "\u001b[38;5;4mℹ Pre-processing will happen on CPU!\u001b[0m\n",
      "\u001b[38;5;4mℹ Loading NER...\u001b[0m\n",
      "\u001b[38;5;4mℹ NER will run on CPU!\u001b[0m\n",
      "\u001b[38;5;4mℹ Processing documents with Legal NER!!!\u001b[0m\n"
     ]
    },
    {
     "name": "stderr",
     "output_type": "stream",
     "text": [
      "\n",
      "  0%|                                                     | 0/1 [00:00<?, ?it/s]\u001b[A\n",
      "100%|█████████████████████████████████████████████| 1/1 [00:46<00:00, 46.11s/it]\u001b[A\n",
      " 10%|████▎                                       | 5/51 [05:23<36:07, 47.12s/it]"
     ]
    },
    {
     "name": "stdout",
     "output_type": "stream",
     "text": [
      "\u001b[38;5;3m⚠ There was some issue while performing postprocessing for doc id\n",
      "7c2792b079a6cbaeac8476b0b7cf303b3203224dd6cbb5af29762d441b1827bd.\n",
      "Some of postprocessing info may be absent because of this in doc.\u001b[0m\n",
      "\u001b[38;5;4mℹ Pre-processing will happen on CPU!\u001b[0m\n",
      "\u001b[38;5;4mℹ Loading NER...\u001b[0m\n",
      "\u001b[38;5;4mℹ NER will run on CPU!\u001b[0m\n",
      "\u001b[38;5;4mℹ Processing documents with Legal NER!!!\u001b[0m\n"
     ]
    },
    {
     "name": "stderr",
     "output_type": "stream",
     "text": [
      "\n",
      "  0%|                                                     | 0/1 [00:00<?, ?it/s]\u001b[A\n",
      "100%|█████████████████████████████████████████████| 1/1 [00:07<00:00,  7.33s/it]\u001b[A\n",
      " 12%|█████▏                                      | 6/51 [05:34<26:14, 34.99s/it]"
     ]
    },
    {
     "name": "stdout",
     "output_type": "stream",
     "text": [
      "\u001b[38;5;4mℹ Pre-processing will happen on CPU!\u001b[0m\n",
      "\u001b[38;5;4mℹ Loading NER...\u001b[0m\n",
      "\u001b[38;5;4mℹ NER will run on CPU!\u001b[0m\n",
      "\u001b[38;5;4mℹ Processing documents with Legal NER!!!\u001b[0m\n"
     ]
    },
    {
     "name": "stderr",
     "output_type": "stream",
     "text": [
      "\n",
      "  0%|                                                     | 0/1 [00:00<?, ?it/s]\u001b[A\n",
      "100%|█████████████████████████████████████████████| 1/1 [00:08<00:00,  8.74s/it]\u001b[A\n",
      " 14%|██████                                      | 7/51 [05:47<20:23, 27.81s/it]"
     ]
    },
    {
     "name": "stdout",
     "output_type": "stream",
     "text": [
      "\u001b[38;5;4mℹ Pre-processing will happen on CPU!\u001b[0m\n",
      "\u001b[38;5;4mℹ Loading NER...\u001b[0m\n",
      "\u001b[38;5;4mℹ NER will run on CPU!\u001b[0m\n",
      "\u001b[38;5;4mℹ Processing documents with Legal NER!!!\u001b[0m\n"
     ]
    },
    {
     "name": "stderr",
     "output_type": "stream",
     "text": [
      "\n",
      "  0%|                                                     | 0/1 [00:00<?, ?it/s]\u001b[A\n",
      "100%|█████████████████████████████████████████████| 1/1 [00:08<00:00,  8.66s/it]\u001b[A\n",
      " 16%|██████▉                                     | 8/51 [06:01<16:38, 23.23s/it]"
     ]
    },
    {
     "name": "stdout",
     "output_type": "stream",
     "text": [
      "\u001b[38;5;4mℹ Pre-processing will happen on CPU!\u001b[0m\n",
      "\u001b[38;5;4mℹ Loading NER...\u001b[0m\n",
      "\u001b[38;5;4mℹ NER will run on CPU!\u001b[0m\n",
      "\u001b[38;5;4mℹ Processing documents with Legal NER!!!\u001b[0m\n"
     ]
    },
    {
     "name": "stderr",
     "output_type": "stream",
     "text": [
      "\n",
      "  0%|                                                     | 0/1 [00:00<?, ?it/s]\u001b[A\n",
      "100%|█████████████████████████████████████████████| 1/1 [00:08<00:00,  8.13s/it]\u001b[A\n",
      " 18%|███████▊                                    | 9/51 [06:13<13:56, 19.92s/it]"
     ]
    },
    {
     "name": "stdout",
     "output_type": "stream",
     "text": [
      "\u001b[38;5;4mℹ Pre-processing will happen on CPU!\u001b[0m\n",
      "\u001b[38;5;4mℹ Loading NER...\u001b[0m\n",
      "\u001b[38;5;4mℹ NER will run on CPU!\u001b[0m\n",
      "\u001b[38;5;4mℹ Processing documents with Legal NER!!!\u001b[0m\n"
     ]
    },
    {
     "name": "stderr",
     "output_type": "stream",
     "text": [
      "\n",
      "  0%|                                                     | 0/1 [00:00<?, ?it/s]\u001b[A\n",
      "100%|█████████████████████████████████████████████| 1/1 [00:07<00:00,  7.76s/it]\u001b[A\n",
      " 20%|████████▍                                  | 10/51 [06:25<11:55, 17.44s/it]"
     ]
    },
    {
     "name": "stdout",
     "output_type": "stream",
     "text": [
      "\u001b[38;5;4mℹ Pre-processing will happen on CPU!\u001b[0m\n",
      "\u001b[38;5;4mℹ Loading NER...\u001b[0m\n",
      "\u001b[38;5;4mℹ NER will run on CPU!\u001b[0m\n",
      "\u001b[38;5;4mℹ Processing documents with Legal NER!!!\u001b[0m\n"
     ]
    },
    {
     "name": "stderr",
     "output_type": "stream",
     "text": [
      "\n",
      "  0%|                                                     | 0/1 [00:00<?, ?it/s]\u001b[A\n",
      "100%|█████████████████████████████████████████████| 1/1 [00:39<00:00, 39.30s/it]\u001b[A\n",
      " 22%|█████████▎                                 | 11/51 [07:09<17:00, 25.52s/it]"
     ]
    },
    {
     "name": "stdout",
     "output_type": "stream",
     "text": [
      "\u001b[38;5;4mℹ Pre-processing will happen on CPU!\u001b[0m\n",
      "\u001b[38;5;4mℹ Loading NER...\u001b[0m\n",
      "\u001b[38;5;4mℹ NER will run on CPU!\u001b[0m\n",
      "\u001b[38;5;4mℹ Processing documents with Legal NER!!!\u001b[0m\n"
     ]
    },
    {
     "name": "stderr",
     "output_type": "stream",
     "text": [
      "\n",
      "  0%|                                                     | 0/1 [00:00<?, ?it/s]\u001b[A\n",
      "100%|█████████████████████████████████████████████| 1/1 [00:07<00:00,  7.35s/it]\u001b[A\n",
      " 24%|██████████                                 | 12/51 [07:20<13:49, 21.26s/it]"
     ]
    },
    {
     "name": "stdout",
     "output_type": "stream",
     "text": [
      "\u001b[38;5;4mℹ Pre-processing will happen on CPU!\u001b[0m\n",
      "\u001b[38;5;4mℹ Loading NER...\u001b[0m\n",
      "\u001b[38;5;4mℹ NER will run on CPU!\u001b[0m\n",
      "\u001b[38;5;4mℹ Processing documents with Legal NER!!!\u001b[0m\n"
     ]
    },
    {
     "name": "stderr",
     "output_type": "stream",
     "text": [
      "\n",
      "  0%|                                                     | 0/1 [00:00<?, ?it/s]\u001b[A\n",
      "100%|█████████████████████████████████████████████| 1/1 [00:17<00:00, 17.88s/it]\u001b[A\n",
      " 25%|██████████▉                                | 13/51 [07:43<13:37, 21.52s/it]"
     ]
    },
    {
     "name": "stdout",
     "output_type": "stream",
     "text": [
      "\u001b[38;5;4mℹ Pre-processing will happen on CPU!\u001b[0m\n",
      "\u001b[38;5;4mℹ Loading NER...\u001b[0m\n",
      "\u001b[38;5;4mℹ NER will run on CPU!\u001b[0m\n",
      "\u001b[38;5;4mℹ Processing documents with Legal NER!!!\u001b[0m\n"
     ]
    },
    {
     "name": "stderr",
     "output_type": "stream",
     "text": [
      "\n",
      "  0%|                                                     | 0/1 [00:00<?, ?it/s]\u001b[A\n",
      "100%|█████████████████████████████████████████████| 1/1 [00:18<00:00, 18.31s/it]\u001b[A\n",
      " 27%|███████████▊                               | 14/51 [08:05<13:31, 21.94s/it]"
     ]
    },
    {
     "name": "stdout",
     "output_type": "stream",
     "text": [
      "\u001b[38;5;3m⚠ There was some issue while performing postprocessing for doc id\n",
      "f6a0737b09bc0e07dd9f8c218a892a30fec7e515f4c06c40e113802ff9f3fc23.\n",
      "Some of postprocessing info may be absent because of this in doc.\u001b[0m\n",
      "\u001b[38;5;4mℹ Pre-processing will happen on CPU!\u001b[0m\n",
      "\u001b[38;5;4mℹ Loading NER...\u001b[0m\n",
      "\u001b[38;5;4mℹ NER will run on CPU!\u001b[0m\n",
      "\u001b[38;5;4mℹ Processing documents with Legal NER!!!\u001b[0m\n"
     ]
    },
    {
     "name": "stderr",
     "output_type": "stream",
     "text": [
      "\n",
      "  0%|                                                     | 0/1 [00:00<?, ?it/s]\u001b[A\n",
      "100%|█████████████████████████████████████████████| 1/1 [00:37<00:00, 37.48s/it]\u001b[A\n",
      " 29%|████████████▋                              | 15/51 [08:47<16:44, 27.91s/it]"
     ]
    },
    {
     "name": "stdout",
     "output_type": "stream",
     "text": [
      "\u001b[38;5;4mℹ Pre-processing will happen on CPU!\u001b[0m\n",
      "\u001b[38;5;4mℹ Loading NER...\u001b[0m\n",
      "\u001b[38;5;4mℹ NER will run on CPU!\u001b[0m\n",
      "\u001b[38;5;4mℹ Processing documents with Legal NER!!!\u001b[0m\n"
     ]
    },
    {
     "name": "stderr",
     "output_type": "stream",
     "text": [
      "\n",
      "  0%|                                                     | 0/1 [00:00<?, ?it/s]\u001b[A\n",
      "100%|█████████████████████████████████████████████| 1/1 [00:16<00:00, 16.39s/it]\u001b[A\n",
      " 31%|█████████████▍                             | 16/51 [09:08<15:01, 25.74s/it]"
     ]
    },
    {
     "name": "stdout",
     "output_type": "stream",
     "text": [
      "\u001b[38;5;4mℹ Pre-processing will happen on CPU!\u001b[0m\n",
      "\u001b[38;5;4mℹ Loading NER...\u001b[0m\n",
      "\u001b[38;5;4mℹ NER will run on CPU!\u001b[0m\n",
      "\u001b[38;5;4mℹ Processing documents with Legal NER!!!\u001b[0m\n"
     ]
    },
    {
     "name": "stderr",
     "output_type": "stream",
     "text": [
      "\n",
      "  0%|                                                     | 0/1 [00:00<?, ?it/s]\u001b[A\n",
      "100%|█████████████████████████████████████████████| 1/1 [00:13<00:00, 13.20s/it]\u001b[A\n",
      " 33%|██████████████▎                            | 17/51 [09:25<13:10, 23.26s/it]"
     ]
    },
    {
     "name": "stdout",
     "output_type": "stream",
     "text": [
      "\u001b[38;5;4mℹ Pre-processing will happen on CPU!\u001b[0m\n",
      "\u001b[38;5;4mℹ Loading NER...\u001b[0m\n",
      "\u001b[38;5;4mℹ NER will run on CPU!\u001b[0m\n",
      "\u001b[38;5;4mℹ Processing documents with Legal NER!!!\u001b[0m\n"
     ]
    },
    {
     "name": "stderr",
     "output_type": "stream",
     "text": [
      "\n",
      "  0%|                                                     | 0/1 [00:00<?, ?it/s]\u001b[A\n",
      "100%|█████████████████████████████████████████████| 1/1 [00:25<00:00, 25.35s/it]\u001b[A\n",
      " 35%|███████████████▏                           | 18/51 [09:55<13:55, 25.31s/it]"
     ]
    },
    {
     "name": "stdout",
     "output_type": "stream",
     "text": [
      "\u001b[38;5;4mℹ Pre-processing will happen on CPU!\u001b[0m\n",
      "\u001b[38;5;4mℹ Loading NER...\u001b[0m\n",
      "\u001b[38;5;4mℹ NER will run on CPU!\u001b[0m\n",
      "\u001b[38;5;4mℹ Processing documents with Legal NER!!!\u001b[0m\n"
     ]
    },
    {
     "name": "stderr",
     "output_type": "stream",
     "text": [
      "\n",
      "  0%|                                                     | 0/1 [00:00<?, ?it/s]\u001b[A\n",
      "100%|█████████████████████████████████████████████| 1/1 [00:25<00:00, 25.20s/it]\u001b[A\n",
      " 37%|████████████████                           | 19/51 [10:25<14:08, 26.53s/it]"
     ]
    },
    {
     "name": "stdout",
     "output_type": "stream",
     "text": [
      "\u001b[38;5;4mℹ Pre-processing will happen on CPU!\u001b[0m\n",
      "\u001b[38;5;4mℹ Loading NER...\u001b[0m\n",
      "\u001b[38;5;4mℹ NER will run on CPU!\u001b[0m\n",
      "\u001b[38;5;4mℹ Processing documents with Legal NER!!!\u001b[0m\n"
     ]
    },
    {
     "name": "stderr",
     "output_type": "stream",
     "text": [
      "\n",
      "  0%|                                                     | 0/1 [00:00<?, ?it/s]\u001b[A\n",
      "100%|█████████████████████████████████████████████| 1/1 [00:18<00:00, 18.91s/it]\u001b[A\n",
      " 39%|████████████████▊                          | 20/51 [10:48<13:11, 25.52s/it]"
     ]
    },
    {
     "name": "stdout",
     "output_type": "stream",
     "text": [
      "\u001b[38;5;4mℹ Pre-processing will happen on CPU!\u001b[0m\n",
      "\u001b[38;5;4mℹ Loading NER...\u001b[0m\n",
      "\u001b[38;5;4mℹ NER will run on CPU!\u001b[0m\n",
      "\u001b[38;5;4mℹ Processing documents with Legal NER!!!\u001b[0m\n"
     ]
    },
    {
     "name": "stderr",
     "output_type": "stream",
     "text": [
      "\n",
      "  0%|                                                     | 0/1 [00:00<?, ?it/s]\u001b[A\n",
      "100%|█████████████████████████████████████████████| 1/1 [00:06<00:00,  6.30s/it]\u001b[A\n",
      " 41%|█████████████████▋                         | 21/51 [10:59<10:34, 21.14s/it]"
     ]
    },
    {
     "name": "stdout",
     "output_type": "stream",
     "text": [
      "\u001b[38;5;4mℹ Pre-processing will happen on CPU!\u001b[0m\n",
      "\u001b[38;5;4mℹ Loading NER...\u001b[0m\n",
      "\u001b[38;5;4mℹ NER will run on CPU!\u001b[0m\n",
      "\u001b[38;5;4mℹ Processing documents with Legal NER!!!\u001b[0m\n"
     ]
    },
    {
     "name": "stderr",
     "output_type": "stream",
     "text": [
      "\n",
      "  0%|                                                     | 0/1 [00:00<?, ?it/s]\u001b[A\n",
      "100%|█████████████████████████████████████████████| 1/1 [00:15<00:00, 15.23s/it]\u001b[A\n",
      " 43%|██████████████████▌                        | 22/51 [11:19<10:01, 20.73s/it]"
     ]
    },
    {
     "name": "stdout",
     "output_type": "stream",
     "text": [
      "\u001b[38;5;4mℹ Pre-processing will happen on CPU!\u001b[0m\n",
      "\u001b[38;5;4mℹ Loading NER...\u001b[0m\n",
      "\u001b[38;5;4mℹ NER will run on CPU!\u001b[0m\n",
      "\u001b[38;5;4mℹ Processing documents with Legal NER!!!\u001b[0m\n"
     ]
    },
    {
     "name": "stderr",
     "output_type": "stream",
     "text": [
      "\n",
      "  0%|                                                     | 0/1 [00:00<?, ?it/s]\u001b[A\n",
      "100%|█████████████████████████████████████████████| 1/1 [00:15<00:00, 15.75s/it]\u001b[A\n",
      " 45%|███████████████████▍                       | 23/51 [11:39<09:35, 20.56s/it]"
     ]
    },
    {
     "name": "stdout",
     "output_type": "stream",
     "text": [
      "\u001b[38;5;4mℹ Pre-processing will happen on CPU!\u001b[0m\n",
      "\u001b[38;5;4mℹ Loading NER...\u001b[0m\n",
      "\u001b[38;5;4mℹ NER will run on CPU!\u001b[0m\n",
      "\u001b[38;5;4mℹ Processing documents with Legal NER!!!\u001b[0m\n"
     ]
    },
    {
     "name": "stderr",
     "output_type": "stream",
     "text": [
      "\n",
      "  0%|                                                     | 0/1 [00:00<?, ?it/s]\u001b[A\n",
      "100%|█████████████████████████████████████████████| 1/1 [00:07<00:00,  7.38s/it]\u001b[A\n",
      " 47%|████████████████████▏                      | 24/51 [11:51<08:05, 17.97s/it]"
     ]
    },
    {
     "name": "stdout",
     "output_type": "stream",
     "text": [
      "\u001b[38;5;4mℹ Pre-processing will happen on CPU!\u001b[0m\n",
      "\u001b[38;5;4mℹ Loading NER...\u001b[0m\n",
      "\u001b[38;5;4mℹ NER will run on CPU!\u001b[0m\n",
      "\u001b[38;5;4mℹ Processing documents with Legal NER!!!\u001b[0m\n"
     ]
    },
    {
     "name": "stderr",
     "output_type": "stream",
     "text": [
      "\n",
      "  0%|                                                     | 0/1 [00:00<?, ?it/s]\u001b[A\n",
      "100%|█████████████████████████████████████████████| 1/1 [00:13<00:00, 13.36s/it]\u001b[A\n",
      " 49%|█████████████████████                      | 25/51 [12:09<07:46, 17.92s/it]"
     ]
    },
    {
     "name": "stdout",
     "output_type": "stream",
     "text": [
      "\u001b[38;5;4mℹ Pre-processing will happen on CPU!\u001b[0m\n",
      "\u001b[38;5;4mℹ Loading NER...\u001b[0m\n",
      "\u001b[38;5;4mℹ NER will run on CPU!\u001b[0m\n",
      "\u001b[38;5;4mℹ Processing documents with Legal NER!!!\u001b[0m\n"
     ]
    },
    {
     "name": "stderr",
     "output_type": "stream",
     "text": [
      "\n",
      "  0%|                                                     | 0/1 [00:00<?, ?it/s]\u001b[A\n",
      "100%|█████████████████████████████████████████████| 1/1 [00:07<00:00,  7.05s/it]\u001b[A\n",
      " 51%|█████████████████████▉                     | 26/51 [12:20<06:39, 15.97s/it]"
     ]
    },
    {
     "name": "stdout",
     "output_type": "stream",
     "text": [
      "\u001b[38;5;4mℹ Pre-processing will happen on CPU!\u001b[0m\n",
      "\u001b[38;5;4mℹ Loading NER...\u001b[0m\n",
      "\u001b[38;5;4mℹ NER will run on CPU!\u001b[0m\n",
      "\u001b[38;5;4mℹ Processing documents with Legal NER!!!\u001b[0m\n"
     ]
    },
    {
     "name": "stderr",
     "output_type": "stream",
     "text": [
      "\n",
      "  0%|                                                     | 0/1 [00:00<?, ?it/s]\u001b[A\n",
      "100%|█████████████████████████████████████████████| 1/1 [00:14<00:00, 14.79s/it]\u001b[A\n",
      " 53%|██████████████████████▊                    | 27/51 [12:39<06:47, 16.98s/it]"
     ]
    },
    {
     "name": "stdout",
     "output_type": "stream",
     "text": [
      "\u001b[38;5;4mℹ Pre-processing will happen on CPU!\u001b[0m\n",
      "\u001b[38;5;4mℹ Loading NER...\u001b[0m\n",
      "\u001b[38;5;4mℹ NER will run on CPU!\u001b[0m\n",
      "\u001b[38;5;4mℹ Processing documents with Legal NER!!!\u001b[0m\n"
     ]
    },
    {
     "name": "stderr",
     "output_type": "stream",
     "text": [
      "\n",
      "  0%|                                                     | 0/1 [00:00<?, ?it/s]\u001b[A\n",
      "100%|█████████████████████████████████████████████| 1/1 [00:09<00:00,  9.24s/it]\u001b[A\n",
      " 55%|███████████████████████▌                   | 28/51 [12:53<06:07, 15.96s/it]"
     ]
    },
    {
     "name": "stdout",
     "output_type": "stream",
     "text": [
      "\u001b[38;5;4mℹ Pre-processing will happen on CPU!\u001b[0m\n",
      "\u001b[38;5;4mℹ Loading NER...\u001b[0m\n",
      "\u001b[38;5;4mℹ NER will run on CPU!\u001b[0m\n",
      "\u001b[38;5;4mℹ Processing documents with Legal NER!!!\u001b[0m\n"
     ]
    },
    {
     "name": "stderr",
     "output_type": "stream",
     "text": [
      "\n",
      "  0%|                                                     | 0/1 [00:00<?, ?it/s]\u001b[A\n",
      "100%|█████████████████████████████████████████████| 1/1 [00:10<00:00, 10.90s/it]\u001b[A\n",
      " 57%|████████████████████████▍                  | 29/51 [13:08<05:47, 15.78s/it]"
     ]
    },
    {
     "name": "stdout",
     "output_type": "stream",
     "text": [
      "\u001b[38;5;4mℹ Pre-processing will happen on CPU!\u001b[0m\n",
      "\u001b[38;5;4mℹ Loading NER...\u001b[0m\n",
      "\u001b[38;5;4mℹ NER will run on CPU!\u001b[0m\n",
      "\u001b[38;5;4mℹ Processing documents with Legal NER!!!\u001b[0m\n"
     ]
    },
    {
     "name": "stderr",
     "output_type": "stream",
     "text": [
      "\n",
      "  0%|                                                     | 0/1 [00:00<?, ?it/s]\u001b[A\n",
      "100%|█████████████████████████████████████████████| 1/1 [00:11<00:00, 11.17s/it]\u001b[A\n",
      " 59%|█████████████████████████▎                 | 30/51 [13:24<05:30, 15.73s/it]"
     ]
    },
    {
     "name": "stdout",
     "output_type": "stream",
     "text": [
      "\u001b[38;5;4mℹ Pre-processing will happen on CPU!\u001b[0m\n",
      "\u001b[38;5;4mℹ Loading NER...\u001b[0m\n",
      "\u001b[38;5;4mℹ NER will run on CPU!\u001b[0m\n",
      "\u001b[38;5;4mℹ Processing documents with Legal NER!!!\u001b[0m\n"
     ]
    },
    {
     "name": "stderr",
     "output_type": "stream",
     "text": [
      "\n",
      "  0%|                                                     | 0/1 [00:00<?, ?it/s]\u001b[A\n",
      "100%|█████████████████████████████████████████████| 1/1 [00:45<00:00, 45.30s/it]\u001b[A\n",
      " 61%|██████████████████████████▏                | 31/51 [14:14<08:39, 25.98s/it]"
     ]
    },
    {
     "name": "stdout",
     "output_type": "stream",
     "text": [
      "\u001b[38;5;3m⚠ There was some issue while performing postprocessing for doc id\n",
      "6e3e85e838f9d68952d5a7edb08742810d82f16f83985c4279bc78b2e3f2b952.\n",
      "Some of postprocessing info may be absent because of this in doc.\u001b[0m\n",
      "\u001b[38;5;4mℹ Pre-processing will happen on CPU!\u001b[0m\n",
      "\u001b[38;5;4mℹ Loading NER...\u001b[0m\n",
      "\u001b[38;5;4mℹ NER will run on CPU!\u001b[0m\n",
      "\u001b[38;5;4mℹ Processing documents with Legal NER!!!\u001b[0m\n"
     ]
    },
    {
     "name": "stderr",
     "output_type": "stream",
     "text": [
      "\n",
      "  0%|                                                     | 0/1 [00:00<?, ?it/s]\u001b[A\n",
      "100%|█████████████████████████████████████████████| 1/1 [00:08<00:00,  8.97s/it]\u001b[A\n",
      " 63%|██████████████████████████▉                | 32/51 [14:27<07:00, 22.16s/it]"
     ]
    },
    {
     "name": "stdout",
     "output_type": "stream",
     "text": [
      "\u001b[38;5;4mℹ Pre-processing will happen on CPU!\u001b[0m\n",
      "\u001b[38;5;4mℹ Loading NER...\u001b[0m\n",
      "\u001b[38;5;4mℹ NER will run on CPU!\u001b[0m\n",
      "\u001b[38;5;4mℹ Processing documents with Legal NER!!!\u001b[0m\n"
     ]
    },
    {
     "name": "stderr",
     "output_type": "stream",
     "text": [
      "\n",
      "  0%|                                                     | 0/1 [00:00<?, ?it/s]\u001b[A\n",
      "100%|█████████████████████████████████████████████| 1/1 [00:42<00:00, 42.14s/it]\u001b[A\n",
      " 65%|███████████████████████████▊               | 33/51 [15:14<08:51, 29.50s/it]"
     ]
    },
    {
     "name": "stdout",
     "output_type": "stream",
     "text": [
      "\u001b[38;5;3m⚠ There was some issue while performing postprocessing for doc id\n",
      "f699dd00e7e9ba51c6f08e65f8e729c6f0a57009f4335ab0df54d1d6acce8dd9.\n",
      "Some of postprocessing info may be absent because of this in doc.\u001b[0m\n",
      "\u001b[38;5;4mℹ Pre-processing will happen on CPU!\u001b[0m\n",
      "\u001b[38;5;4mℹ Loading NER...\u001b[0m\n",
      "\u001b[38;5;4mℹ NER will run on CPU!\u001b[0m\n",
      "\u001b[38;5;4mℹ Processing documents with Legal NER!!!\u001b[0m\n"
     ]
    },
    {
     "name": "stderr",
     "output_type": "stream",
     "text": [
      "\n",
      "  0%|                                                     | 0/1 [00:00<?, ?it/s]\u001b[A\n",
      "100%|█████████████████████████████████████████████| 1/1 [00:07<00:00,  7.63s/it]\u001b[A\n",
      " 67%|████████████████████████████▋              | 34/51 [15:26<06:52, 24.28s/it]"
     ]
    },
    {
     "name": "stdout",
     "output_type": "stream",
     "text": [
      "\u001b[38;5;4mℹ Pre-processing will happen on CPU!\u001b[0m\n",
      "\u001b[38;5;4mℹ Loading NER...\u001b[0m\n",
      "\u001b[38;5;4mℹ NER will run on CPU!\u001b[0m\n",
      "\u001b[38;5;4mℹ Processing documents with Legal NER!!!\u001b[0m\n"
     ]
    },
    {
     "name": "stderr",
     "output_type": "stream",
     "text": [
      "\n",
      "  0%|                                                     | 0/1 [00:00<?, ?it/s]\u001b[A\n",
      "100%|█████████████████████████████████████████████| 1/1 [00:15<00:00, 15.40s/it]\u001b[A\n",
      " 69%|█████████████████████████████▌             | 35/51 [15:46<06:07, 22.94s/it]"
     ]
    },
    {
     "name": "stdout",
     "output_type": "stream",
     "text": [
      "\u001b[38;5;4mℹ Pre-processing will happen on CPU!\u001b[0m\n",
      "\u001b[38;5;4mℹ Loading NER...\u001b[0m\n",
      "\u001b[38;5;4mℹ NER will run on CPU!\u001b[0m\n",
      "\u001b[38;5;4mℹ Processing documents with Legal NER!!!\u001b[0m\n"
     ]
    },
    {
     "name": "stderr",
     "output_type": "stream",
     "text": [
      "\n",
      "  0%|                                                     | 0/1 [00:00<?, ?it/s]\u001b[A\n",
      "100%|█████████████████████████████████████████████| 1/1 [00:07<00:00,  7.87s/it]\u001b[A\n",
      " 71%|██████████████████████████████▎            | 36/51 [15:58<04:55, 19.69s/it]"
     ]
    },
    {
     "name": "stdout",
     "output_type": "stream",
     "text": [
      "\u001b[38;5;4mℹ Pre-processing will happen on CPU!\u001b[0m\n",
      "\u001b[38;5;4mℹ Loading NER...\u001b[0m\n",
      "\u001b[38;5;4mℹ NER will run on CPU!\u001b[0m\n",
      "\u001b[38;5;4mℹ Processing documents with Legal NER!!!\u001b[0m\n"
     ]
    },
    {
     "name": "stderr",
     "output_type": "stream",
     "text": [
      "\n",
      "  0%|                                                     | 0/1 [00:00<?, ?it/s]\u001b[A\n",
      "100%|█████████████████████████████████████████████| 1/1 [00:44<00:00, 44.42s/it]\u001b[A\n",
      " 73%|███████████████████████████████▏           | 37/51 [16:46<06:37, 28.41s/it]"
     ]
    },
    {
     "name": "stdout",
     "output_type": "stream",
     "text": [
      "\u001b[38;5;3m⚠ There was some issue while performing postprocessing for doc id\n",
      "84812a94ddbf010f6964cc54d84278f6484605c94acd03c6bf50826b6a42b73b.\n",
      "Some of postprocessing info may be absent because of this in doc.\u001b[0m\n",
      "\u001b[38;5;4mℹ Pre-processing will happen on CPU!\u001b[0m\n",
      "\u001b[38;5;4mℹ Loading NER...\u001b[0m\n",
      "\u001b[38;5;4mℹ NER will run on CPU!\u001b[0m\n",
      "\u001b[38;5;4mℹ Processing documents with Legal NER!!!\u001b[0m\n"
     ]
    },
    {
     "name": "stderr",
     "output_type": "stream",
     "text": [
      "\n",
      "  0%|                                                     | 0/1 [00:00<?, ?it/s]\u001b[A\n",
      "100%|█████████████████████████████████████████████| 1/1 [00:15<00:00, 15.55s/it]\u001b[A\n",
      " 75%|████████████████████████████████           | 38/51 [17:07<05:37, 25.97s/it]"
     ]
    },
    {
     "name": "stdout",
     "output_type": "stream",
     "text": [
      "\u001b[38;5;4mℹ Pre-processing will happen on CPU!\u001b[0m\n",
      "\u001b[38;5;4mℹ Loading NER...\u001b[0m\n",
      "\u001b[38;5;4mℹ NER will run on CPU!\u001b[0m\n",
      "\u001b[38;5;4mℹ Processing documents with Legal NER!!!\u001b[0m\n"
     ]
    },
    {
     "name": "stderr",
     "output_type": "stream",
     "text": [
      "\n",
      "  0%|                                                     | 0/1 [00:00<?, ?it/s]\u001b[A\n",
      "100%|█████████████████████████████████████████████| 1/1 [00:06<00:00,  6.42s/it]\u001b[A\n",
      " 76%|████████████████████████████████▉          | 39/51 [17:18<04:18, 21.50s/it]"
     ]
    },
    {
     "name": "stdout",
     "output_type": "stream",
     "text": [
      "\u001b[38;5;4mℹ Pre-processing will happen on CPU!\u001b[0m\n",
      "\u001b[38;5;4mℹ Loading NER...\u001b[0m\n",
      "\u001b[38;5;4mℹ NER will run on CPU!\u001b[0m\n",
      "\u001b[38;5;4mℹ Processing documents with Legal NER!!!\u001b[0m\n"
     ]
    },
    {
     "name": "stderr",
     "output_type": "stream",
     "text": [
      "\n",
      "  0%|                                                     | 0/1 [00:00<?, ?it/s]\u001b[A\n",
      "100%|█████████████████████████████████████████████| 1/1 [00:10<00:00, 10.22s/it]\u001b[A\n",
      " 78%|█████████████████████████████████▋         | 40/51 [17:33<03:34, 19.48s/it]"
     ]
    },
    {
     "name": "stdout",
     "output_type": "stream",
     "text": [
      "\u001b[38;5;4mℹ Pre-processing will happen on CPU!\u001b[0m\n",
      "\u001b[38;5;4mℹ Loading NER...\u001b[0m\n",
      "\u001b[38;5;4mℹ NER will run on CPU!\u001b[0m\n",
      "\u001b[38;5;4mℹ Processing documents with Legal NER!!!\u001b[0m\n"
     ]
    },
    {
     "name": "stderr",
     "output_type": "stream",
     "text": [
      "\n",
      "  0%|                                                     | 0/1 [00:00<?, ?it/s]\u001b[A\n",
      "100%|█████████████████████████████████████████████| 1/1 [00:06<00:00,  6.84s/it]\u001b[A\n",
      " 80%|██████████████████████████████████▌        | 41/51 [17:44<02:50, 17.05s/it]"
     ]
    },
    {
     "name": "stdout",
     "output_type": "stream",
     "text": [
      "\u001b[38;5;4mℹ Pre-processing will happen on CPU!\u001b[0m\n",
      "\u001b[38;5;4mℹ Loading NER...\u001b[0m\n",
      "\u001b[38;5;4mℹ NER will run on CPU!\u001b[0m\n",
      "\u001b[38;5;4mℹ Processing documents with Legal NER!!!\u001b[0m\n"
     ]
    },
    {
     "name": "stderr",
     "output_type": "stream",
     "text": [
      "\n",
      "  0%|                                                     | 0/1 [00:00<?, ?it/s]\u001b[A\n",
      "100%|█████████████████████████████████████████████| 1/1 [00:10<00:00, 10.78s/it]\u001b[A\n",
      " 82%|███████████████████████████████████▍       | 42/51 [17:59<02:28, 16.55s/it]"
     ]
    },
    {
     "name": "stdout",
     "output_type": "stream",
     "text": [
      "\u001b[38;5;4mℹ Pre-processing will happen on CPU!\u001b[0m\n",
      "\u001b[38;5;4mℹ Loading NER...\u001b[0m\n",
      "\u001b[38;5;4mℹ NER will run on CPU!\u001b[0m\n",
      "\u001b[38;5;4mℹ Processing documents with Legal NER!!!\u001b[0m\n"
     ]
    },
    {
     "name": "stderr",
     "output_type": "stream",
     "text": [
      "\n",
      "  0%|                                                     | 0/1 [00:00<?, ?it/s]\u001b[A\n",
      "100%|█████████████████████████████████████████████| 1/1 [00:08<00:00,  8.53s/it]\u001b[A\n",
      " 84%|████████████████████████████████████▎      | 43/51 [18:12<02:03, 15.47s/it]"
     ]
    },
    {
     "name": "stdout",
     "output_type": "stream",
     "text": [
      "\u001b[38;5;4mℹ Pre-processing will happen on CPU!\u001b[0m\n",
      "\u001b[38;5;4mℹ Loading NER...\u001b[0m\n",
      "\u001b[38;5;4mℹ NER will run on CPU!\u001b[0m\n",
      "\u001b[38;5;4mℹ Processing documents with Legal NER!!!\u001b[0m\n"
     ]
    },
    {
     "name": "stderr",
     "output_type": "stream",
     "text": [
      "\n",
      "  0%|                                                     | 0/1 [00:00<?, ?it/s]\u001b[A\n",
      "100%|█████████████████████████████████████████████| 1/1 [00:13<00:00, 13.02s/it]\u001b[A\n",
      " 86%|█████████████████████████████████████      | 44/51 [18:30<01:52, 16.10s/it]"
     ]
    },
    {
     "name": "stdout",
     "output_type": "stream",
     "text": [
      "\u001b[38;5;4mℹ Pre-processing will happen on CPU!\u001b[0m\n",
      "\u001b[38;5;4mℹ Loading NER...\u001b[0m\n",
      "\u001b[38;5;4mℹ NER will run on CPU!\u001b[0m\n",
      "\u001b[38;5;4mℹ Processing documents with Legal NER!!!\u001b[0m\n"
     ]
    },
    {
     "name": "stderr",
     "output_type": "stream",
     "text": [
      "\n",
      "  0%|                                                     | 0/1 [00:00<?, ?it/s]\u001b[A\n",
      "100%|█████████████████████████████████████████████| 1/1 [00:21<00:00, 21.58s/it]\u001b[A\n",
      " 88%|█████████████████████████████████████▉     | 45/51 [18:56<01:55, 19.20s/it]"
     ]
    },
    {
     "name": "stdout",
     "output_type": "stream",
     "text": [
      "\u001b[38;5;4mℹ Pre-processing will happen on CPU!\u001b[0m\n",
      "\u001b[38;5;4mℹ Loading NER...\u001b[0m\n",
      "\u001b[38;5;4mℹ NER will run on CPU!\u001b[0m\n",
      "\u001b[38;5;4mℹ Processing documents with Legal NER!!!\u001b[0m\n"
     ]
    },
    {
     "name": "stderr",
     "output_type": "stream",
     "text": [
      "\n",
      "  0%|                                                     | 0/1 [00:00<?, ?it/s]\u001b[A\n",
      "100%|█████████████████████████████████████████████| 1/1 [00:06<00:00,  6.79s/it]\u001b[A\n",
      " 90%|██████████████████████████████████████▊    | 46/51 [19:08<01:24, 16.84s/it]"
     ]
    },
    {
     "name": "stdout",
     "output_type": "stream",
     "text": [
      "\u001b[38;5;4mℹ Pre-processing will happen on CPU!\u001b[0m\n",
      "\u001b[38;5;4mℹ Loading NER...\u001b[0m\n",
      "\u001b[38;5;4mℹ NER will run on CPU!\u001b[0m\n",
      "\u001b[38;5;4mℹ Processing documents with Legal NER!!!\u001b[0m\n"
     ]
    },
    {
     "name": "stderr",
     "output_type": "stream",
     "text": [
      "\n",
      "  0%|                                                     | 0/1 [00:00<?, ?it/s]\u001b[A\n",
      "100%|█████████████████████████████████████████████| 1/1 [00:15<00:00, 15.29s/it]\u001b[A\n",
      " 92%|███████████████████████████████████████▋   | 47/51 [19:27<01:10, 17.73s/it]"
     ]
    },
    {
     "name": "stdout",
     "output_type": "stream",
     "text": [
      "\u001b[38;5;4mℹ Pre-processing will happen on CPU!\u001b[0m\n",
      "\u001b[38;5;4mℹ Loading NER...\u001b[0m\n",
      "\u001b[38;5;4mℹ NER will run on CPU!\u001b[0m\n",
      "\u001b[38;5;4mℹ Processing documents with Legal NER!!!\u001b[0m\n"
     ]
    },
    {
     "name": "stderr",
     "output_type": "stream",
     "text": [
      "\n",
      "  0%|                                                     | 0/1 [00:00<?, ?it/s]\u001b[A\n",
      "100%|█████████████████████████████████████████████| 1/1 [00:07<00:00,  7.89s/it]\u001b[A\n",
      " 94%|████████████████████████████████████████▍  | 48/51 [19:40<00:48, 16.19s/it]"
     ]
    },
    {
     "name": "stdout",
     "output_type": "stream",
     "text": [
      "\u001b[38;5;4mℹ Pre-processing will happen on CPU!\u001b[0m\n",
      "\u001b[38;5;4mℹ Loading NER...\u001b[0m\n",
      "\u001b[38;5;4mℹ NER will run on CPU!\u001b[0m\n",
      "\u001b[38;5;4mℹ Processing documents with Legal NER!!!\u001b[0m\n"
     ]
    },
    {
     "name": "stderr",
     "output_type": "stream",
     "text": [
      "\n",
      "  0%|                                                     | 0/1 [00:00<?, ?it/s]\u001b[A\n",
      "100%|█████████████████████████████████████████████| 1/1 [00:09<00:00,  9.88s/it]\u001b[A\n",
      " 96%|█████████████████████████████████████████▎ | 49/51 [19:55<00:31, 15.83s/it]"
     ]
    },
    {
     "name": "stdout",
     "output_type": "stream",
     "text": [
      "\u001b[38;5;4mℹ Pre-processing will happen on CPU!\u001b[0m\n",
      "\u001b[38;5;4mℹ Loading NER...\u001b[0m\n",
      "\u001b[38;5;4mℹ NER will run on CPU!\u001b[0m\n",
      "\u001b[38;5;4mℹ Processing documents with Legal NER!!!\u001b[0m\n"
     ]
    },
    {
     "name": "stderr",
     "output_type": "stream",
     "text": [
      "\n",
      "  0%|                                                     | 0/1 [00:00<?, ?it/s]\u001b[A\n",
      "100%|█████████████████████████████████████████████| 1/1 [00:26<00:00, 26.16s/it]\u001b[A\n",
      " 98%|██████████████████████████████████████████▏| 50/51 [20:26<00:20, 20.27s/it]"
     ]
    },
    {
     "name": "stdout",
     "output_type": "stream",
     "text": [
      "\u001b[38;5;4mℹ Pre-processing will happen on CPU!\u001b[0m\n",
      "\u001b[38;5;4mℹ Loading NER...\u001b[0m\n",
      "\u001b[38;5;4mℹ NER will run on CPU!\u001b[0m\n",
      "\u001b[38;5;4mℹ Processing documents with Legal NER!!!\u001b[0m\n"
     ]
    },
    {
     "name": "stderr",
     "output_type": "stream",
     "text": [
      "\n",
      "  0%|                                                     | 0/1 [00:00<?, ?it/s]\u001b[A\n",
      "100%|█████████████████████████████████████████████| 1/1 [00:09<00:00,  9.45s/it]\u001b[A\n",
      "100%|███████████████████████████████████████████| 51/51 [20:40<00:00, 24.32s/it]\n"
     ]
    }
   ],
   "source": [
    "#NER\n",
    "import warnings\n",
    "warnings.filterwarnings(\"ignore\")\n",
    "\n",
    "for judgement in tqdm(judgements_filtered[case_dfs[0].case_id.nunique():]):\n",
    "    judgement_text = open(judgement).read()\n",
    "    #Get Case_ID \n",
    "    case_id = judgement.split(r'/')[-1].split('.txt')[0]\n",
    "    \n",
    "    # load your text files directly into this\n",
    "    texts_to_process = [judgement_text]\n",
    "    # create Data object for data  preprocessing before running ML models\n",
    "    data = Data(texts_to_process, preprocessing_nlp_model='en_core_web_trf')\n",
    "    \n",
    "    # Load NER model\n",
    "    pipeline = Pipeline(components=['NER'], use_gpu=False, verbose=True,\n",
    "                   ner_model_name='en_legal_ner_trf',\n",
    "                   ner_mini_batch_size=40000,\n",
    "                   ner_do_sentence_level=True,\n",
    "                   ner_do_postprocess=True,\n",
    "                   ner_statute_shortforms_path='')\n",
    "    \n",
    "    results = pipeline(data)\n",
    "    ner_doc_1 = pipeline._ner_model_output[0]\n",
    "    \n",
    "    #Get Provisions recognised in the judgement\n",
    "    provisions=get_unique_provision_count(ner_doc_1)\n",
    "    provisions_df = pd.DataFrame(provisions.items())\n",
    "    provisions_df.columns = ['provision_opennyai','freq']\n",
    "    \n",
    "    # Clean Provisions and Statute text\n",
    "    provisions_df['provision_opennyai'] = provisions_df['provision_opennyai'].str.lower().replace('section', 's', regex=True)\n",
    "    provisions_df = provisions_df.groupby('provision_opennyai')[['freq']].sum().reset_index()\n",
    "    provisions_df['statute_opennyai'] = ''\n",
    "    \n",
    "    for index, row in provisions_df.iterrows():\n",
    "        statute = row['provision_opennyai'].split('of',1)[-1].strip().title()\n",
    "        statute = statute.replace('Protection Of Children From Sexual Offences','POCSO')    \n",
    "        provision = row['provision_opennyai'].split('of',1)[0].strip().title()\n",
    "        provision = provision.replace('As Well As',r'/')\n",
    "        provisions_df.loc[index,'statute_opennyai'] = statute\n",
    "        provisions_df.loc[index,'provision_opennyai'] = provision.replace('S.','').strip()\n",
    "        provisions_df.loc[index,'provision_opennyai'] = provision.replace('S','').strip()\n",
    "    \n",
    "    #Concatenate all provisions of a statute \n",
    "    provisions_df = provisions_df.groupby(['statute_opennyai'])['provision_opennyai'].apply(list).reset_index()\n",
    "    provisions_df['case_id'] = case_id\n",
    "    provisions_df = provisions_df[['case_id', 'statute_opennyai', 'provision_opennyai']]\n",
    "    \n",
    "    # Get Provisions and Statute information from parsed meta data\n",
    "    folder_path = judgement.split(r'/')\n",
    "    folder_path.pop()\n",
    "    case_metadata_json = r\"/\".join(folder_path)+\"/\"+case_id+\"_parsed.json\"\n",
    "    with open(case_metadata_json) as file:\n",
    "        data = json.load(file)\n",
    "    \n",
    "    sections_df = pd.DataFrame(data['acts'])\n",
    "    sections_df.columns = ['statute_metadata','provision_metadata']\n",
    "    sections_df['case_id_meta'] = case_id\n",
    "    \n",
    "    # Concatenate Opennyai data and metadata\n",
    "    df = pd.concat([provisions_df,sections_df], axis=1)\n",
    "    df = df.drop('case_id_meta',axis=1)\n",
    "    case_dfs.append(df)\n",
    "    pd.concat(case_dfs).to_csv('POCSO.csv',index=False)"
   ]
  },
  {
   "cell_type": "code",
   "execution_count": null,
   "id": "ba2d83fb",
   "metadata": {},
   "outputs": [],
   "source": [
    "# Frequency count of all statues in a judgement\n",
    "from opennyai.ner import get_unique_statute_count\n",
    "statutes=get_unique_statute_count(ner_doc_1)\n",
    "statutes"
   ]
  },
  {
   "cell_type": "code",
   "execution_count": null,
   "id": "20f63279",
   "metadata": {},
   "outputs": [],
   "source": [
    "# Frequency count of all provisions in a judgement\n",
    "from opennyai.ner import get_unique_provision_count\n",
    "provisions=get_unique_provision_count(ner_doc_1)\n",
    "provisions"
   ]
  },
  {
   "cell_type": "code",
   "execution_count": null,
   "id": "5fa6e0b9",
   "metadata": {},
   "outputs": [],
   "source": [
    "provisions_df = pd.DataFrame(provisions.items())\n",
    "provisions_df.columns = ['provision','freq']\n",
    "provisions_df['provision'] = provisions_df['provision'].str.lower().replace('section', 's', regex=True)"
   ]
  },
  {
   "cell_type": "code",
   "execution_count": null,
   "id": "c8afca1b",
   "metadata": {},
   "outputs": [],
   "source": [
    "provisions_df = provisions_df.groupby('provision')[['freq']].sum().reset_index()\n",
    "provisions_df['statute'] = ''"
   ]
  },
  {
   "cell_type": "code",
   "execution_count": null,
   "id": "991b7f38",
   "metadata": {},
   "outputs": [],
   "source": [
    "for index, row in provisions_df.iterrows():\n",
    "    statute = row['provision'].split('of',1)[-1].strip().title()\n",
    "    statute = statute.replace('Protection Of Children From Sexual Offences','POCSO')\n",
    "    \n",
    "    provision = row['provision'].split('of',1)[0].strip().title()\n",
    "    provision = provision.replace('As Well As',r'/')\n",
    "    provisions_df.loc[index,'statute'] = statute\n",
    "    provisions_df.loc[index,'provision'] = provision"
   ]
  },
  {
   "cell_type": "code",
   "execution_count": null,
   "id": "50bf82fb",
   "metadata": {},
   "outputs": [],
   "source": [
    "provisions_df"
   ]
  },
  {
   "cell_type": "code",
   "execution_count": null,
   "id": "561e68e8",
   "metadata": {},
   "outputs": [],
   "source": [
    "provisions_df = provisions_df.groupby(['statute'])['provision'].apply(list).reset_index()\n",
    "provisions_df"
   ]
  },
  {
   "cell_type": "code",
   "execution_count": null,
   "id": "c694ab5e",
   "metadata": {},
   "outputs": [],
   "source": [
    "provisions_df['case_id'] = case_id"
   ]
  },
  {
   "cell_type": "code",
   "execution_count": null,
   "id": "37485bf7",
   "metadata": {},
   "outputs": [],
   "source": [
    "provisions_df"
   ]
  },
  {
   "cell_type": "code",
   "execution_count": null,
   "id": "1b0c520d",
   "metadata": {},
   "outputs": [],
   "source": [
    "l = judgment.split(r'/')\n",
    "l.pop()\n",
    "case_metadata_json = r\"/\".join(l)+\"/\"+case_id+\"_parsed.json\"\n",
    "\n",
    "import json\n",
    "with open(case_metadata_json) as file:\n",
    "    data = json.load(file)"
   ]
  },
  {
   "cell_type": "code",
   "execution_count": null,
   "id": "1ec64529",
   "metadata": {},
   "outputs": [],
   "source": [
    "sections_df = pd.DataFrame(data['acts'])\n",
    "sections_df.columns = ['statute_meta','provision_meta']\n",
    "sections_df['case_id_meta'] = case_id"
   ]
  },
  {
   "cell_type": "code",
   "execution_count": null,
   "id": "613b5ef0",
   "metadata": {},
   "outputs": [],
   "source": []
  },
  {
   "cell_type": "markdown",
   "id": "51eddc93",
   "metadata": {},
   "source": [
    "# Limitations\n",
    "1. The judgements are converted from PDFs to txt formats. The PDFs often contains official stamps and other symbols, which when converted into txt become a dirty group of letters. This made a couple of sentences in each page incomprehensible. The recognition of entities could be affected in these sentences."
   ]
  },
  {
   "cell_type": "code",
   "execution_count": 3,
   "id": "33d0cd7f",
   "metadata": {},
   "outputs": [],
   "source": [
    "filtered_cases_cino = pd.read_csv('POCSO_Filter2.csv')['cino'].to_list()"
   ]
  },
  {
   "cell_type": "code",
   "execution_count": 8,
   "id": "4f81e3a8",
   "metadata": {},
   "outputs": [],
   "source": [
    "# List of all POCSO judgements in Assam\n",
    "judgement_paths_assam = []\n",
    "path =\"Assam\"\n",
    "for root, dirs, files in os.walk(path):\n",
    "    for file in files:\n",
    "        if(file.endswith(\".pdf\")):\n",
    "            judgement_paths_assam.append(os.path.join(root,file))"
   ]
  },
  {
   "cell_type": "code",
   "execution_count": 18,
   "id": "b0a2c22d",
   "metadata": {},
   "outputs": [],
   "source": [
    "# List of 50 filtered POCSO judgements in Assam\n",
    "judgements_filtered = []\n",
    "for judgement in judgement_paths_assam:\n",
    "    #Get Case_ID \n",
    "    case_id = judgement.split(r'/')[-1].split('_Judgment_')[0]\n",
    "    \n",
    "    if case_id in filtered_cases_cino:\n",
    "        judgements_filtered.append(judgement)"
   ]
  },
  {
   "cell_type": "code",
   "execution_count": 19,
   "id": "5831c54e",
   "metadata": {},
   "outputs": [
    {
     "data": {
      "text/plain": [
       "51"
      ]
     },
     "execution_count": 19,
     "metadata": {},
     "output_type": "execute_result"
    }
   ],
   "source": [
    "len(judgements_filtered)"
   ]
  },
  {
   "cell_type": "code",
   "execution_count": 17,
   "id": "1129ae24",
   "metadata": {},
   "outputs": [
    {
     "data": {
      "text/plain": [
       "'ASDU100003992019'"
      ]
     },
     "execution_count": 17,
     "metadata": {},
     "output_type": "execute_result"
    }
   ],
   "source": [
    "f = 'Assam/Dhubri/additional_district_and_sessions_judge_ASDU100003992019/ASDU100003992019_Judgment_23-10-2019.pdf'\n",
    "\n",
    "f.split(r'/')[-1].split('_Judgment_')[0]"
   ]
  },
  {
   "cell_type": "code",
   "execution_count": 23,
   "id": "1179f965",
   "metadata": {},
   "outputs": [],
   "source": [
    "import shutil\n",
    "for judgement in judgements_filtered:\n",
    "    shutil.copy2(judgement, 'POCSO_Experiment_Judgements')  "
   ]
  },
  {
   "cell_type": "code",
   "execution_count": null,
   "id": "ae8c433a",
   "metadata": {},
   "outputs": [],
   "source": []
  }
 ],
 "metadata": {
  "kernelspec": {
   "display_name": "Python 3 (ipykernel)",
   "language": "python",
   "name": "python3"
  },
  "language_info": {
   "codemirror_mode": {
    "name": "ipython",
    "version": 3
   },
   "file_extension": ".py",
   "mimetype": "text/x-python",
   "name": "python",
   "nbconvert_exporter": "python",
   "pygments_lexer": "ipython3",
   "version": "3.9.13"
  }
 },
 "nbformat": 4,
 "nbformat_minor": 5
}
