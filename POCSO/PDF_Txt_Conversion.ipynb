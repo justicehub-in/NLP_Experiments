{
 "cells": [
  {
   "cell_type": "markdown",
   "id": "6a4bd28a",
   "metadata": {},
   "source": [
    "# Converting PDF to Txt\n",
    "This codebook is to convert all judgement PDFs into TXT format.\n",
    "\n",
    "Judgments on [eCourts portal](https://ecourts.gov.in/ecourts_home/) are available in the form of PDFs, and often they are not machine readable. Hence they have to be converted into TXT first to input them into NLP Models."
   ]
  },
  {
   "cell_type": "code",
   "execution_count": 1,
   "id": "2e409200",
   "metadata": {},
   "outputs": [],
   "source": [
    "#Import required libraries\n",
    "import os\n",
    "import shutil\n",
    "import glob\n",
    "from natsort import natsorted\n",
    "\n",
    "from tqdm import tqdm\n",
    "import pandas as pd\n",
    "\n",
    "from pdf2image import convert_from_path\n",
    "import pytesseract\n",
    "from PIL import Image, ImageEnhance, ImageFilter"
   ]
  },
  {
   "cell_type": "code",
   "execution_count": 5,
   "id": "505ad645",
   "metadata": {},
   "outputs": [],
   "source": [
    "# Make a list of all paths of all PDFs in the directory\n",
    "judgement_paths_assam = []\n",
    "path =\"Data\"\n",
    "for root, dirs, files in os.walk(path):\n",
    "    for file in files:\n",
    "        if(file.endswith(\".pdf\")):\n",
    "            judgement_paths_assam.append(os.path.join(root,file))\n",
    "            \n",
    "            \n",
    "# Select only those PDFs that are judgements - the name of the judgment file has \"judgment\" mentioend in it. \n",
    "judgements = []\n",
    "for judgement in judgement_paths_assam:\n",
    "    if ('judgment' in judgement.lower()):\n",
    "        judgements.append(judgement)"
   ]
  },
  {
   "cell_type": "code",
   "execution_count": 6,
   "id": "1b039ae4",
   "metadata": {},
   "outputs": [
    {
     "data": {
      "text/plain": [
       "1162"
      ]
     },
     "execution_count": 6,
     "metadata": {},
     "output_type": "execute_result"
    }
   ],
   "source": [
    "len(judgements)"
   ]
  },
  {
   "cell_type": "code",
   "execution_count": null,
   "id": "0629775e",
   "metadata": {},
   "outputs": [],
   "source": [
    "# Convert Judgment PDFs into txts\n",
    "\n",
    "## Store already converted PDFS in a list\n",
    "converted_cases = []\n",
    "\n",
    "for judgement in tqdm(judgements):\n",
    "    #Retrieve case_id from the judgement file name\n",
    "    case_id = judgement.split(r'/')[-1].split('_')[0]\n",
    "    \n",
    "    if case_id in converted_cases:\n",
    "        continue\n",
    "    \n",
    "    # Saving the TXT in the same folder where PDF is present\n",
    "    folder_path = judgement.split(r'/')\n",
    "    folder_path.pop()\n",
    "    folder_path = r\"/\".join(folder_path)+\"/\"\n",
    "\n",
    "    # Save individual pages of a judgement in a temporary folder with DPI 350\n",
    "    pages = convert_from_path(judgement, 350, output_folder='./tmp')\n",
    "    i = 1\n",
    "    for page in pages:\n",
    "        image_name = \"Page_\" + str(i) + \".jpg\"  \n",
    "        page.save(image_name, \"JPEG\")\n",
    "        i = i+1\n",
    "        \n",
    "    # Delete the temporary folder and create it anew for the next iteration\n",
    "    shutil.rmtree('tmp')\n",
    "    os.makedirs('tmp')\n",
    "    \n",
    "    # Extract text from each picture of the judgement and then delete the picture\n",
    "    pics = glob.glob(\"*.jpg\")\n",
    "    pics = natsorted(pics)\n",
    "    judgement_text = ''\n",
    "    for pic in pics:\n",
    "        text = pytesseract.image_to_string(Image.open(pic))\n",
    "        os.remove(pic)\n",
    "        # Append the text extracted from each picture cumulatively\n",
    "        judgement_text = judgement_text + text\n",
    "    \n",
    "    # Save the entire text extracted in txt format\n",
    "    with open(folder_path+case_id+'.txt', 'w') as f:\n",
    "        f.write(judgement_text)\n",
    "        \n",
    "    converted_cases.append(case_id)"
   ]
  },
  {
   "cell_type": "markdown",
   "id": "86ef13c7",
   "metadata": {},
   "source": [
    "All 1162  POCSO judgments PDFs are converted into TXTs and saved in the same directory where the PDFs are present."
   ]
  },
  {
   "cell_type": "code",
   "execution_count": null,
   "id": "ff39bdbe",
   "metadata": {},
   "outputs": [],
   "source": []
  }
 ],
 "metadata": {
  "kernelspec": {
   "display_name": "Python 3 (ipykernel)",
   "language": "python",
   "name": "python3"
  },
  "language_info": {
   "codemirror_mode": {
    "name": "ipython",
    "version": 3
   },
   "file_extension": ".py",
   "mimetype": "text/x-python",
   "name": "python",
   "nbconvert_exporter": "python",
   "pygments_lexer": "ipython3",
   "version": "3.9.13"
  }
 },
 "nbformat": 4,
 "nbformat_minor": 5
}
